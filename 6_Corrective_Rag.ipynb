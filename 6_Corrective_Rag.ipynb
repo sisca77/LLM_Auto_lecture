{
 "cells": [
  {
   "cell_type": "code",
   "execution_count": 1,
   "metadata": {},
   "outputs": [
    {
     "name": "stdout",
     "output_type": "stream",
     "text": [
      "Note: you may need to restart the kernel to use updated packages.\n"
     ]
    },
    {
     "name": "stderr",
     "output_type": "stream",
     "text": [
      "\n",
      "[notice] A new release of pip is available: 24.3.1 -> 25.1.1\n",
      "[notice] To update, run: python.exe -m pip install --upgrade pip\n"
     ]
    },
    {
     "name": "stdout",
     "output_type": "stream",
     "text": [
      "Note: you may need to restart the kernel to use updated packages.\n"
     ]
    },
    {
     "name": "stderr",
     "output_type": "stream",
     "text": [
      "ERROR: Could not find a version that satisfies the requirement ython-dotenv (from versions: none)\n",
      "\n",
      "[notice] A new release of pip is available: 24.3.1 -> 25.1.1\n",
      "[notice] To update, run: python.exe -m pip install --upgrade pip\n",
      "ERROR: No matching distribution found for ython-dotenv\n"
     ]
    },
    {
     "name": "stdout",
     "output_type": "stream",
     "text": [
      "Note: you may need to restart the kernel to use updated packages.\n"
     ]
    },
    {
     "name": "stderr",
     "output_type": "stream",
     "text": [
      "\n",
      "[notice] A new release of pip is available: 24.3.1 -> 25.1.1\n",
      "[notice] To update, run: python.exe -m pip install --upgrade pip\n"
     ]
    }
   ],
   "source": [
    "%pip install -q python-dotenv langchain-openai langgraph langchain_chroma\n",
    "%pip install -qU pypdf langchain-community langchain-text-splitters ython-dotenv\n",
    "%pip install -q \"unstructured[md]\" nltk"
   ]
  },
  {
   "cell_type": "code",
   "execution_count": 2,
   "metadata": {},
   "outputs": [
    {
     "name": "stdout",
     "output_type": "stream",
     "text": [
      "Requirement already satisfied: python-dotenv in c:\\users\\bitcamp\\appdata\\local\\programs\\python\\python313\\lib\\site-packages (1.1.0)\n",
      "Note: you may need to restart the kernel to use updated packages.\n"
     ]
    },
    {
     "name": "stderr",
     "output_type": "stream",
     "text": [
      "\n",
      "[notice] A new release of pip is available: 24.3.1 -> 25.1.1\n",
      "[notice] To update, run: python.exe -m pip install --upgrade pip\n"
     ]
    }
   ],
   "source": [
    "%pip install python-dotenv"
   ]
  },
  {
   "cell_type": "code",
   "execution_count": 3,
   "metadata": {},
   "outputs": [
    {
     "name": "stderr",
     "output_type": "stream",
     "text": [
      "python-dotenv could not parse statement starting at line 11\n",
      "python-dotenv could not parse statement starting at line 13\n",
      "python-dotenv could not parse statement starting at line 14\n",
      "python-dotenv could not parse statement starting at line 15\n",
      "python-dotenv could not parse statement starting at line 16\n",
      "python-dotenv could not parse statement starting at line 18\n",
      "python-dotenv could not parse statement starting at line 19\n",
      "python-dotenv could not parse statement starting at line 20\n"
     ]
    },
    {
     "data": {
      "text/plain": [
       "True"
      ]
     },
     "execution_count": 3,
     "metadata": {},
     "output_type": "execute_result"
    }
   ],
   "source": [
    "import os\n",
    "from dotenv import load_dotenv\n",
    "load_dotenv('../.env')"
   ]
  },
  {
   "cell_type": "code",
   "execution_count": 4,
   "metadata": {},
   "outputs": [],
   "source": [
    "from langchain_chroma import Chroma\n",
    "from langchain_openai import OpenAIEmbeddings\n",
    "\n",
    "embedding_function = OpenAIEmbeddings(model='text-embedding-3-large')\n",
    "\n",
    "vector_store = Chroma(\n",
    "    embedding_function=embedding_function,\n",
    "    collection_name = 'income_tax_collection',\n",
    "    persist_directory='./income_tax_collection'\n",
    ")\n",
    "retriever = vector_store.as_retriever(search_kwargs={'k': 3})"
   ]
  },
  {
   "cell_type": "code",
   "execution_count": 5,
   "metadata": {},
   "outputs": [
    {
     "data": {
      "text/plain": [
       "[Document(id='efc91b11-220c-458e-addf-13dd02fa0926', metadata={'source': './documents/income_tax.txt'}, page_content='5년 이하: 30만원 → 납입연수\\n5년 초과 10년 이하: 150만원 + 50만원 × (납입연수 - 5년)\\n10년 초과 20년 이하: 400만원 + 80만원 × (납입연수 - 10년)\\n20년 초과: 1,200만원 + 120만원 × (납입연수 - 20년)\\n\\n② 직장근로자 초과관세환급금을 분배하여 지급받는 경우 세액의 계산 방법 등 필요한 사항은 대통령령으로 정한다. \\n<대통령 2014. 12. 23.>\\n<전문개정 2009. 12. 31.>\\n제64조(부동산매매업자에 대한 세액 계산의 특례)\\n1) 대통령령으로 정하는 부동산매매업(이하 “부동산매매업”이라 한다)을 영위하는 거주자가 이하 “부동산매매업자”라 한다)로서 종합소득세법에 제104조제1항제1호(본항을 포함한다) 및 제103조 또는 같은 조 제7항 각 호의 어느 하나에 해당하는 자산의 매매자익(이하 “주택등매매차익”이라 한다)이 있는 자의 종합소득 산출세액은 다음 각 호의 세액 중 많은 것으로 한다. \\n<개정 2014. 12. 23., 2017. 12. 19., 2020. 12. 29.>\\n1. 종합소득 산출세액\\n\\n다음 각 목에 따른 세액의 합계액\\n  가. 주택등매매차익에 따른 세율을 적용하여 산출한 세액의 합계액\\n  나. 종합소득세법 제55조에 따라 주택등매매차익에 대한 개별세액을 공제한 금액을 과세표준으로 하고 이에 제55조에 따른 세율을 적용하여 산출세액'),\n",
       " Document(id='37ad216c-7206-469b-be34-d7ee06a2561f', metadata={'source': './documents/income_tax.txt'}, page_content='5년 이하: 30만원 → 납입연수\\n5년 초과 10년 이하: 150만원 + 50만원 × (납입연수 - 5년)\\n10년 초과 20년 이하: 400만원 + 80만원 × (납입연수 - 10년)\\n20년 초과: 1,200만원 + 120만원 × (납입연수 - 20년)\\n\\n② 직장근로자 초과관세환급금을 분배하여 지급받는 경우 세액의 계산 방법 등 필요한 사항은 대통령령으로 정한다. \\n<대통령 2014. 12. 23.>\\n<전문개정 2009. 12. 31.>\\n제64조(부동산매매업자에 대한 세액 계산의 특례)\\n1) 대통령령으로 정하는 부동산매매업(이하 “부동산매매업”이라 한다)을 영위하는 거주자가 이하 “부동산매매업자”라 한다)로서 종합소득세법에 제104조제1항제1호(본항을 포함한다) 및 제103조 또는 같은 조 제7항 각 호의 어느 하나에 해당하는 자산의 매매자익(이하 “주택등매매차익”이라 한다)이 있는 자의 종합소득 산출세액은 다음 각 호의 세액 중 많은 것으로 한다. \\n<개정 2014. 12. 23., 2017. 12. 19., 2020. 12. 29.>\\n1. 종합소득 산출세액\\n\\n다음 각 목에 따른 세액의 합계액\\n  가. 주택등매매차익에 따른 세율을 적용하여 산출한 세액의 합계액\\n  나. 종합소득세법 제55조에 따라 주택등매매차익에 대한 개별세액을 공제한 금액을 과세표준으로 하고 이에 제55조에 따른 세율을 적용하여 산출세액'),\n",
       " Document(id='88337565-ab92-48d3-925f-e895647a45de', metadata={'source': './documents/income_tax.txt'}, page_content='② 제70조제1항, 제70조의2에 따른 제74조에 따라 차례로 할 것이 제70조제1항제2호에 따르며 서류를 제출하여야 한다는 경우에는 기준소득 중 거주자 본인이 된다(분산)과 제70조제2와 제74조에 따른 제료 및 제대법을 포함한다. 단, 차별제표청정인 그 업체를 남겨 제출한 경우로 그에 대하여 아니하다.<개정 2013. 1. 1.>\\n  ③ 제80조에 따른 수익과 관련의 경우에는 기초공제 중 거주자 본인이 된다(분산)과 그에 관한 적지사항을 분명히 한다.\\n[전문개정 2009. 12. 31.]\\n[제목개정 2014. 1. 1.]\\n제54조의2(공동사업에 대한 소득공제 등 특례) 제51조의3 또는 「조세특례제한법」에 따른 소득공제를 적용하거나 제59조의2에 따른 세액감면을 적용하는 경우 제54조제3항에 따라 공동사업자의 소득에 합산과세되는 특별세액거래의 지출․납입․투자 등의 금액이 있을 경우 주된 공동사업자의 소득에 합산과세되는 소득금액에 합산되어 주된 공동사업자의 합산과세세액은 공동사업소득액 또는 공동사업창출세액을 계산할 때 소득공제 또는 세액공제를 받을 수 있다. \\n[개정 2014. 1. 1.]\\n[전문개정 2009. 12. 31.]\\n[제목개정 2014. 1. 1.]\\n제2절 세액의 계산 <개정 2009. 12. 31.>\\n제1관 세율 <개정 2009. 12. 31.>\\n제55조(세율) 거주자의 종합소득에 대한 소득세는 해당 연도의 종합소득과세표준에 다음의 세율을 적용하여 계산한 금액(이하 \"종합소득과세표준세액\"이라 한다)을 그 세액으로 한다. <개정 2014. 1. 1., 2016. 12. 20., 2017. 12. 19., 2020. 12. 29., 2022. 12. 31.>\\n종합소득\\n┌───────────────┐\\n│ 과세표준의 6개 구간 │\\n├───────────────┤\\n│ 1,400만원 이하        │ 84만원 + (1,400만원을 초과하는 금액의 15%)  │\\n│ 1,400만원 초과        │ 84만원 + (5,000만원을 초과하는 금액의 24%)  │\\n│ 8,800만원 이하        │ 624만원 + (5,000만원을 초과하는 금액의 24%)  │\\n│ 8,800만원 초과        │ 1,536만원 + (8,800만원을 초과하는 금액의 35%)  │\\n│ 1.5억원 초과          │ 4,046만원 + (1,500만원을 초과하는 금액의 38%)  │\\n│ 3억원 초과            │ 6,460만원 + (3억원을 초과하는 금액의 40%)  │\\n│ 5억원 초과            │ 14,760만원 + (5억원을 초과하는 금액의 42%)  │\\n│ 10억원 초과           │ 38,406만원 + (10억원을 초과하는 금액의 45%)  │\\n└───────────────┘\\n② 거주자의 퇴직소득에 대한 소득세는 다음 각 호의 순서에 따라 계산한 금액(이하 ‘퇴직소득 산출세액’이라 한다)으로 한다. <개정 2013. 1. 1., 2014. 12. 23.>')]"
      ]
     },
     "execution_count": 5,
     "metadata": {},
     "output_type": "execute_result"
    }
   ],
   "source": [
    "query = \"거주자의 연봉 5천만원 소득세는 얼마인가\"\n",
    "retriever.invoke(query)"
   ]
  },
  {
   "cell_type": "code",
   "execution_count": 6,
   "metadata": {},
   "outputs": [],
   "source": [
    "from typing_extensions import TypedDict\n",
    "from langgraph.graph import StateGraph, START, END\n",
    "\n",
    "class AgentState(TypedDict):\n",
    "    query: str\n",
    "    context: str\n",
    "    answer: str\n",
    "    retry_count: int\n",
    "    max_retries: int"
   ]
  },
  {
   "cell_type": "code",
   "execution_count": 7,
   "metadata": {},
   "outputs": [],
   "source": [
    "def retrieve_node(state: AgentState) -> AgentState:\n",
    "    \"\"\"\n",
    "    사용자의 질문에 기반하여 벡터 스토어에서 관련 문서를 검색합니다.\n",
    "\n",
    "    Args:\n",
    "        state (AgentState): 사용자의 질문을 포함한 에이전트의 현재 state.\n",
    "\n",
    "    Returns:\n",
    "        AgentState: 검색된 문서가 추가된 state를 반환합니다.\n",
    "    \"\"\"\n",
    "    query = state['query']\n",
    "    docs = retriever.invoke(query)\n",
    "    return {'context': docs}"
   ]
  },
  {
   "cell_type": "code",
   "execution_count": 8,
   "metadata": {},
   "outputs": [],
   "source": [
    "from langchain import hub\n",
    "from langchain_openai import ChatOpenAI\n",
    "\n",
    "# 허브에서 RAG 프롬프트를 가져옵니다\n",
    "generate_prompt = hub.pull(\"rlm/rag-prompt\")\n",
    "\n",
    "# 지정된 매개변수로 언어 모델을 초기화합니다\n",
    "generate_llm = ChatOpenAI(model='gpt-4o', max_completion_tokens=100)\n",
    "\n",
    "def generate(state: AgentState) -> AgentState:\n",
    "    \"\"\"\n",
    "    주어진 state를 기반으로 RAG 체인을 사용하여 응답을 생성합니다.\n",
    "\n",
    "    Args:\n",
    "        state (AgentState): 사용자의 질문과 문맥을 포함한 에이전트의 현재 state.\n",
    "\n",
    "    Returns:\n",
    "        AgentState: 생성된 응답을 포함하는 state를 반환합니다.\n",
    "    \"\"\"\n",
    "    # state에서 컨텍스트와 쿼리를 추출합니다\n",
    "    context = state['context']\n",
    "    query = state['query']\n",
    "    \n",
    "    # 작업 체인을 생성합니다: 먼저 프롬프트를 검색하고, 그 다음 응답을 생성합니다\n",
    "    rag_chain = generate_prompt | generate_llm\n",
    "    \n",
    "    # 쿼리와 컨텍스트로 체인을 호출하여 응답을 얻습니다\n",
    "    response = rag_chain.invoke({'question': query, 'context': context})\n",
    "    \n",
    "    # 생성된 답변을 반환합니다\n",
    "    return {'answer': response.content}"
   ]
  },
  {
   "cell_type": "code",
   "execution_count": 9,
   "metadata": {},
   "outputs": [],
   "source": [
    "from langchain import hub\n",
    "from typing import Literal\n",
    "\n",
    "doc_relevance_prompt = hub.pull(\"langchain-ai/rag-document-relevance\")\n",
    "\n",
    "llm = ChatOpenAI(model='gpt-4o', max_completion_tokens=3000)\n",
    "\n",
    "def check_doc_relevance(state: AgentState) -> Literal['relevant', 'irrelevant']:\n",
    "    \"\"\"\n",
    "    주어진 state를 기반으로 문서의 관련성을 판단합니다.\n",
    "\n",
    "    Args:\n",
    "        state (AgentState): 사용자의 질문과 문맥을 포함한 에이전트의 현재 state.\n",
    "\n",
    "    Returns:\n",
    "        Literal['relevant', 'irrelevant']: 문서가 관련성이 높으면 'relevant', 그렇지 않으면 'irrelevant'를 반환합니다.\n",
    "    \"\"\"\n",
    "    query = state['query']\n",
    "    context = state['context']\n",
    "\n",
    "    doc_relevance_chain = doc_relevance_prompt | llm\n",
    "    response = doc_relevance_chain.invoke({'question': query, 'documents': context})\n",
    "\n",
    "    if response['Score'] == 1:\n",
    "        # 2.3장과 다르게 `relevant`와 `irrelevant`를 반환합니다\n",
    "        # node를 직접 지정하는 것보다 실제 판단 결과를 리턴하면서 해당 node의 재사용성을 높일 수 있습니다.\n",
    "        return 'relevant'\n",
    "    \n",
    "    return 'irrelevant'"
   ]
  },
  {
   "cell_type": "code",
   "execution_count": 10,
   "metadata": {},
   "outputs": [],
   "source": [
    "from langchain_core.prompts import PromptTemplate\n",
    "from langchain_core.output_parsers import StrOutputParser\n",
    "\n",
    "\n",
    "rewrite_prompt = PromptTemplate.from_template(f\"\"\"\n",
    "사용자의 질문을 보고, 우리의 웹검색에 용이하게 사용자의 질문을 수정해주세요 \n",
    "                                         \n",
    "질문: {{query}}\n",
    "\"\"\")\n",
    "\n",
    "def rewrite(state: AgentState) -> AgentState:\n",
    "    \"\"\"\n",
    "    사용자의 질문을 사전을 참고하여 변경합니다.\n",
    "\n",
    "    Args:\n",
    "        state (AgentState): 사용자의 질문을 포함한 에이전트의 현재 state.\n",
    "\n",
    "    Returns:\n",
    "        AgentState: 변경된 질문을 포함하는 state를 반환합니다.\n",
    "    \"\"\"\n",
    "\n",
    "    query = state['query']\n",
    "    retry_count = state.get('retry_count', 0)\n",
    "\n",
    "    rewrite_chain = rewrite_prompt | llm | StrOutputParser()\n",
    "\n",
    "    response = rewrite_chain.invoke({'query': query})\n",
    "\n",
    "    return {'query': response, 'retry_count': retry_count + 1}"
   ]
  },
  {
   "cell_type": "code",
   "execution_count": null,
   "metadata": {},
   "outputs": [
    {
     "name": "stderr",
     "output_type": "stream",
     "text": [
      "C:\\Users\\bitcamp\\AppData\\Local\\Temp\\ipykernel_9600\\1336542735.py:3: LangChainDeprecationWarning: The class `TavilySearchResults` was deprecated in LangChain 0.3.25 and will be removed in 1.0. An updated version of the class exists in the :class:`~langchain-tavily package and should be used instead. To use it run `pip install -U :class:`~langchain-tavily` and import as `from :class:`~langchain_tavily import TavilySearch``.\n",
      "  tavily_search_tool = TavilySearchResults(\n"
     ]
    }
   ],
   "source": [
    "from langchain_community.tools import TavilySearchResults\n",
    "\n",
    "tavily_search_tool = TavilySearchResults(\n",
    "    max_results=3,\n",
    "    search_depth=\"advanced\",\n",
    "    include_answer=True,\n",
    "    include_raw_content=True,\n",
    "    include_images=True,\n",
    ")\n",
    "\n",
    "def web_search(state: AgentState) -> AgentState:\n",
    "    \"\"\"\n",
    "    주어진 state를 기반으로 웹 검색을 수행합니다.\n",
    "\n",
    "    Args:\n",
    "        state (AgentState): 사용자의 질문을 포함한 에이전트의 현재 state.\n",
    "\n",
    "    Returns:\n",
    "        AgentState: 웹 검색 결과가 추가된 state를 반환합니다.\n",
    "    \"\"\"\n",
    "    query = state['query']\n",
    "    results = tavily_search_tool.invoke(query)\n",
    "\n",
    "    return {'context': results}\n",
    "    # return {'context': results, 'retry_count': retry_count + 1}"
   ]
  },
  {
   "cell_type": "code",
   "execution_count": 12,
   "metadata": {},
   "outputs": [],
   "source": [
    "# 단일 conditional edge로 처리\n",
    "def check_doc_relevance_and_route(state: AgentState) -> Literal['relevant', 'rewrite', 'web_search', 'end']:\n",
    "    \n",
    "    query = state['query']\n",
    "    context = state['context']\n",
    "    retry_count = state.get('retry_count', 0)\n",
    "\n",
    "    doc_relevance_chain = doc_relevance_prompt | llm\n",
    "    \n",
    "    response = doc_relevance_chain.invoke({'question': query, 'documents': context})\n",
    "\n",
    "    if response['Score'] == 1:\n",
    "        return 'relevant'\n",
    "\n",
    "    else:\n",
    "        # 관련성이 없을 때 재시도 횟수에 따라 라우팅\n",
    "        if retry_count == 0:\n",
    "            return 'rewrite'\n",
    "        elif retry_count <= 2:  # 1, 2번째 재시도\n",
    "            return 'web_search'\n",
    "        else:\n",
    "            return 'generate'  # 3번 이상이면 종료\n",
    "\n"
   ]
  },
  {
   "cell_type": "code",
   "execution_count": 28,
   "metadata": {},
   "outputs": [],
   "source": [
    "graph_builder = StateGraph(AgentState)"
   ]
  },
  {
   "cell_type": "code",
   "execution_count": 29,
   "metadata": {},
   "outputs": [
    {
     "data": {
      "text/plain": [
       "<langgraph.graph.state.StateGraph at 0x24fd46d7490>"
      ]
     },
     "execution_count": 29,
     "metadata": {},
     "output_type": "execute_result"
    }
   ],
   "source": [
    "# node 추가\n",
    "\n",
    "graph_builder.add_node('retrieve_node', retrieve_node)\n",
    "graph_builder.add_node('generate', generate)\n",
    "graph_builder.add_node('rewrite', rewrite)\n",
    "graph_builder.add_node('web_search', web_search)\n",
    "# graph_builder.add_node('check_doc_relevance_and_route', check_doc_relevance_and_route)"
   ]
  },
  {
   "cell_type": "code",
   "execution_count": 15,
   "metadata": {},
   "outputs": [],
   "source": [
    "# # edge 추가\n",
    "\n",
    "# graph_builder.add_edge(START, 'retrieve_node')\n",
    "# graph_builder.add_conditional_edges(\n",
    "#     'retrieve_node',\n",
    "#     check_doc_relevance_and_route,\n",
    "#     {\n",
    "#         'relevant': 'generate',\n",
    "#         'rewrite':'rewrite',\n",
    "#         'web_search':'web_search',\n",
    "#         'end':END\n",
    "#     }\n",
    "# )\n",
    "# graph_builder.add_edge('generate', END)\n",
    "# graph_builder.add_edge('rewrite', 'retrieve_node')\n",
    "# graph_builder.add_edge('web_search', 'retrieve_node')\n",
    "\n",
    "# initial_state = {\n",
    "#     \"query\": \"역삼역 맛집을 추천해주세요\",\n",
    "#     \"retry_count\": 0\n",
    "# }"
   ]
  },
  {
   "cell_type": "code",
   "execution_count": 30,
   "metadata": {},
   "outputs": [],
   "source": [
    "from langgraph.graph import START, END\n",
    "\n",
    "# edge 추가 - v2\n",
    "\n",
    "# 그래프 구성\n",
    "graph_builder.add_edge(START, 'retrieve_node')\n",
    "graph_builder.add_conditional_edges(\n",
    "    'retrieve_node',\n",
    "    check_doc_relevance_and_route,\n",
    "    {\n",
    "        'relevant': 'generate',\n",
    "        'rewrite': 'rewrite',\n",
    "        'web_search': 'web_search',\n",
    "        'end': END  # end 경로 추가\n",
    "    }\n",
    ")\n",
    "\n",
    "graph_builder.add_edge('rewrite', 'retrieve_node')\n",
    "graph_builder.add_edge('web_search', 'generate')\n",
    "graph_builder.add_edge('generate', END)\n",
    "\n",
    "# 초기 상태 설정\n",
    "initial_state = {\n",
    "    'query': '역삼역 맛집을 추천해주세요',\n",
    "    'retry_count': 0\n",
    "}"
   ]
  },
  {
   "cell_type": "code",
   "execution_count": 31,
   "metadata": {},
   "outputs": [],
   "source": [
    "graph = graph_builder.compile()"
   ]
  },
  {
   "cell_type": "code",
   "execution_count": 32,
   "metadata": {},
   "outputs": [
    {
     "data": {
      "image/png": "[encoded data removed]",
      "text/plain": [
       "<IPython.core.display.Image object>"
      ]
     },
     "metadata": {},
     "output_type": "display_data"
    }
   ],
   "source": [
    "from IPython.display import Image, display\n",
    "\n",
    "display(Image(graph.get_graph().draw_mermaid_png()))"
   ]
  },
  {
   "cell_type": "code",
   "execution_count": 33,
   "metadata": {},
   "outputs": [
    {
     "data": {
      "text/plain": [
       "{'query': '\"역삼역 인근 맛집 추천 부탁드립니다\"',\n",
       " 'context': [{'title': '역삼역 주변 맛집 리스트 - pangpang - 티스토리',\n",
       "   'url': 'https://sam-repository.tistory.com/11',\n",
       "   'content': '키워드: #한식 #뼈숯불구이 #감자탕 #양배추샐러드도맛도리 #많이매운편 #볶음밥도필수  \\n도로명주소: 서울 강남구 테헤란로10길 21 1층  \\n맛있게 먹은 사람: 73.77% (987 / 1338)  \\n한 줄 평가:매운 음식을 좋아한다면 도전해볼만한 뼈숯불구이!  \\n   \\n매운 음식을 좋아한다면 신동궁감자탕 역삼직영점에서 매운 뼈숯불구이를 도전해보시는 건 어떨까요? 꽤 매운 편이라서 호불호가 갈릴 수 있으니 꼭! 매운 음식을 좋아하는 사람들이랑 가는 것을 추천드려요. 등뼈 사이사이에 낀 살이 부드럽게 발라지고, 중간중간 양배추 샐러드를 곁들여 먹거나 밥이랑 비벼 먹어도 좋아요. 다만 6시를 기준으로 사람들이 물밀 듯이 갈 수 있으니 웨이팅을 해야 할 수도 있습니다.\\n\\n이상으로 역삼역 주변 맛집 리스트를 정리해보았는데요, 이번 글을 읽고 역삼역 인근의 맛집을 찾는데 도움이 되셨으면 좋겠습니다! 이상 읽어주셔서 감사합니다. 😁😁 [...] 키워드: #한식 #만두전골 #손만두 #도가니수육 #예약필수 #술  \\n도로명주소:  서울 강남구 언주로93길 22-3 지상 1층   \\n맛있게 먹은 사람: 77.35% (239 / 309)  \\n한 줄 평가: 손으로 직접 빚는 만두, 도가니 수육이 대박인 집!  \\n   \\n서울집은 손만두 전문점으로 따끈하게 쪄서 나오는 손만두와 양이 푸짐하고 쫄깃함이 일품인 도가니 수육이 맛있는 곳입니다. 역삼 인근에서 맛집으로 소문나서 예약을 하지 않고 방문 시 웨이팅을 해야 할 수도 있으니 가기 전에 예약하시는 걸 추천드려요! (저도 몇 번 그냥 갔다가 웨이팅 해야 했다는..) 특히 요즘 같이 쌀쌀한 날씨에 뜨끈~한 만두 전골에 도가니 수육까지 먹고 나면 긴장이 사르르 풀리는 그런 맛집입니다!\\n\\n## 9. 밀회관 역삼역점 [...] 키워드: #술 #플래터 #맥주 #하이볼 #논알콜도있어요 #와인 #단체회식  \\n도로명주소: 서울 강남구 테헤란로33길 18 1층  \\n맛있게 먹은 사람: 76.19% (432 / 567)  \\n한 줄 평가: 눈이 즐거워지는 대용량 플래터와 인테리어가 인상적인 맥주집!  \\n   \\n맥주, 하이볼, 와인, 논알콜 다양한 종류가 있어서 주종 상관 없이 취향껏 즐길 수 있어요. 무엇보다 여러 명이서 가서 플래터를 하나 시키면 맛있고 양이 많아서 남녀노소 누구나 즐길 수 있는 술집입니다. 뿐만 아니라 인테리어, 화장실도 깔끔해서 역삼역 회식 장소로 강추!\\n\\n## 10. 신동궁감자탕 역삼직영점',\n",
       "   'score': 0.9229352,\n",
       "   'raw_content': \"# [pangpang](https://sam-repository.tistory.com/)\\n\\nPOWERED BY TISTORY\\n\\n# 역삼역 주변 맛집 리스트\\n\\n![](https://blog.kakaocdn.net/dn/eFKV4H/btsAvVcmvcj/Bv7PzfLfnz6nwV1wKKOojK/img.jpg)\\n\\n바로가기 목록\\n\\n\\xa0안녕하세요, 이번 글은 **멀티캠퍼스 & 역삼역 주변의 추천 맛집 리스트**를 정리해보았습니다! 보다 빠른 검색을 위해 **#키워드 태그**를 넣었으니, **ctrl + F** 를 눌러 원하는 키워드를 검색(ex. 한식)하면 쉽고 빠르게 찾을 수 있어요. 10명 이상 많은 인원이 **회식하러 가기 좋은 식당**부터 **혼자 가기도 좋은 역삼역 맛집**까지 내돈내산 맛집 리스트를 탈탈 털어보았습니다!  \\n\\xa0  \\n제가 직접 가본 식당 중 다른 분들도 맛있게 먹었다고 응답한 비율을 '**맛있게 먹은 사람**'이라는 지표로 만들어서 **해당 순위에 따라 정리**해보았습니다. 맛있게 먹은 사람 비율 선정 기준은 바로 아래에 정리해놓았습니다.\\n\\n### <참고> 맛있게 먹은 사람 비율 선정 기준\\n\\n![](https://blog.kakaocdn.net/dn/dIKstc/btsAyWBvkPM/7fkau5me1pQBxLD8jucX51/img.jpg)\\n\\n'맛있게 먹은 사람' 비율 선정 기준은 **네이버 지도 > 해당 식당의 상세 페이지 > 리뷰 > 방문자 리뷰**를 바탕으로 작성했습니다. 작성일(2023년 11월 19일) 기준으로 작성한 글이라 해당 비율은 차이가 있을 수 있다는 점을 알려드립니다. 그리고 작성일 기준 전국에 지점이 100개 이상인 유명 프랜차이즈와 방문자 리뷰가 100건 미만인 지점은 선정 기준에 제외하고 골랐으니 참고하시면 좋겠습니다!\\n\\nTMI: 저는 다른 곳에서도 맛집을 판단하는 기준으로 방문자 대비 '음식이 맛잇어요'를 체크한 사람의 비율을 보고 결정해요 😊😊\\n\\n## **1. 선덕칼국수 역삼본점**\\n\\n![](https://blog.kakaocdn.net/dn/dpycGH/btsAwttHfBc/LkwdknLFqp45EugaZgrZ50/img.jpg)\\n\\n**키워드**:\\xa0#한식 #닭칼국수 #감자전필수  \\n**도로명주소**:\\xa0서울 강남구 테헤란로27길 29 주암빌딩 B1  \\n**맛있게 먹은 사람**:\\xa093.70%\\xa0(1472 / 1571)  \\n**한 줄 평가****:**함께 먹으러 가면\\xa0감자전이 필수인\\xa0칼국수\\xa0맛집!  \\n\\xa0  \\n닭칼국수는 깊은 닭육수와 싱싱한 파향, 쫄깃한 면발에 잘 베인 간이 일품인 메뉴에요. 바깥 바람이 차가워질수록 맛있어지는 겨울철에 생각나는 그런 맛입니다. 선덕칼국수에 가셨다면 무조건 감자전부터 시키세요!! 감자전은\\xa0겉은 감자채로 바삭하고 속은 간 감자를 넣어\\xa0**겉바속쫀 감자전**이라 자꾸 생각나는 맛이에요!\\n\\n## **2. 하몽하몽이베리코 역삼점**\\n\\n![](https://blog.kakaocdn.net/dn/K19DL/btsAxF8svI6/UcyqgRZHb4QIj9dfrKrQ61/img.jpg)\\n\\n**키워드**:\\xa0#한식 #돼지고기 #이베리코 #회식  \\n**도로명주소**:\\xa0서울 강남구 언주로93길 25 1층  \\n**맛있게 먹은 사람**:\\xa089.18%\\xa0(808 / 906)  \\n**한 줄 평가**:\\xa0최상급 이베리코를 합리적인 가격으로 먹을 수 있는 곳!  \\n\\xa0  \\n고기도 직원분들이 구워주시고 고기뿐만 아니라 밑반찬, 김치찌개, 비빔냉면 모두 다 맛있어요. 호불호가 안 갈리는 맛이라 고기를 먹고 싶은 날\\xa0**소규모로 가도 좋고**, 자리가 많아서\\xa0**단체 회식**을 하기에도 아주 좋은 곳이에요.\\n\\n## **3. 고갯마루**\\n\\n![](https://blog.kakaocdn.net/dn/eh9xeb/btsAvjki9ro/krkEYXN5QB0YPQQb731IU1/img.jpg)\\n\\n**키워드**: #한식 #닭볶음탕 #닭도리탕 #소규모모임 #예약필수  \\n**도로명주소**: 서울 강남구 테헤란로28길 27(고갯마루)  \\n**맛있게 먹은 사람**: 86.42%\\xa0(280 / 324)  \\n**한 줄 평가****:**역삼역뿐만 아니라 서울 내에서도 닭도리탕 맛집 순위에 꼽는 찐맛집 고갯마루!  \\n\\xa0  \\n고갯마루는 닭도리탕 맛집이에요. 약불에서 천천히 졸이며 진해지는 국물과 잘 어울리는 닭고기와 큼직하게 썬 감자를 먹어보면 계속 생각나는 맛이에요. 마무리로 볶음밥까지 먹으면 천국..😇  \\n\\xa0  \\n단, 주변 직장인들이 많이 찾고 닭볶음탕 요리 특성상 준비 시간이 꽤 걸리니(30~40분) **예약은 필수**! 좌식으로 되어 있어서 치마 입고 가기에는 불편할 수 있어요.\\n\\n## **4. 이도곰탕 본점**\\n\\n![](https://blog.kakaocdn.net/dn/chehz3/btsAySMJRQD/PPhJnRcKUtjQp1X9Ck9dPK/img.jpg)\\n\\n**키워드**:\\xa0#한식 #곰탕 #수육도맛나요 #혼밥 #빠밥  \\n**도로명주소**:\\xa0서울 강남구 논현로94길 29-5  \\n**맛있게 먹은 사람**: 83.25%\\xa0(681 / 818)  \\n**한 줄 평가****:**깔끔하면서 깊이 있는\\xa0맑은 곰탕이 당기는 날이면 이도곰탕에서 곰탕 한 그릇  \\n\\xa0  \\n맑은 국물의 곰탕인데 깔끔하면서도 깊이가 느껴지는 곰탕입니다. 역삼역 근처에서 저녁을 먹어야 할 때 혼밥하기도 좋아서 종종 가요. 곰탕 안에 들어간 고기도 많고 송송 썰린 파도 듬뿍 들어가서 먹고 난 후에 속도 편한 음식입니다!\\n\\n## **5. 지아니스나폴리 역삼 본점**\\n\\n![](https://blog.kakaocdn.net/dn/bpbOk7/btsAAPWiEQn/XBsMEG5BxRvthsUUvdEt9K/img.jpg)\\n\\n**키워드**:\\xa0#양식 #이탈리아식 #파스타 #화덕피자 #와인 #데이트  \\n**도로명주소**: 서울 강남구 논현로94길 15 B1층   \\n**맛있게 먹은 사람**:\\xa081.44%\\xa0(430 / 528)  \\n**한 줄 평가****:** 역삼 화덕피자 & 파스타 맛집  \\n\\xa0  \\n식전 빵부터 맛집 느낌이 물씬 나는 이탈리아 음식 전문점입니다. 화덕피자와 파스타가 맛있는 레스토랑으로 유명한데 **가지라구라자냐**도 맛있어요. 마실 것도 식전주부터 다양한 와인까지 준비되어 있어서 양식을 찾는 분들께 추천드려요! 개인적으로 분위기는 괜찮은데, 소리가 울리는 건지 공간이 시끄럽게 느껴진 게 아쉬웠어요.\\n\\n## **6. 갈비다움 역삼본점**\\n\\n![](https://blog.kakaocdn.net/dn/mdQe8/btsAxiSJiQz/sG7pzGmE7d7pdvtmhcAf5K/img.jpg)\\n\\n**키워드**:\\xa0#한식\\xa0#갈비탕 #갈비찜 #수육  \\n**도로명주소**:\\xa0서울 강남구 테헤란로25길 31  \\n**맛있게 먹은 사람**: 79.97%\\xa0(555 / 694)  \\n**한 줄 평가****:**집 나간 입맛을 돌아오게 만드는 매운갈비찜 + 치즈 조합!  \\n\\xa0  \\n갈비다움은 갈비, 특히 매운 갈비찜이 맛있는 곳이에요. 매운 갈비찜에 치즈를 추가하면 자리에서 치즈를 토치로 구워주십니다. 갈비찜을 드실 때는 **계란찜**을 곁들여서 드시는 것을 추천드려요!! 마지막으로 **깍두기 볶음밥**까지 먹어주면 완벽한 한 끼 식사 완성!\\n\\n## **7. 대우 부대찌개**\\n\\n![](https://blog.kakaocdn.net/dn/b5PUKN/btsAvlibpgT/9t6fwJsKFF1jZj5GwI0Quk/img.jpg)\\n\\n**키워드**:\\xa0#한식 #부대찌개 #등심부대찌개추천  \\n**도로명주소**: 서울 강남구 테헤란로25길 34   \\n**맛있게 먹은 사람**:\\xa078.43%\\xa0(949 / 1210)  \\n**한 줄 평가**: 등심이 들어간 부대찌개 전문점  \\n\\xa0  \\n다른 부대찌개집과는 다르게 등심~~(아쉽게도 냉동..)~~과 미나리 쑥갓이 들어가 국물 맛이 시원하면서 깊은 게 특징인 부대찌개 맛집이에요. 대우 부대찌개의 부대찌개는 **햄과 소시지도 넉넉히** 들어가 있어요. 사리는 추가해서 먹어야 하지만 육수와 반찬은 리필이 가능해서 맛있는 부대찌개를 먹고 싶다면 여기를 추천드려요!\\n\\n## **8. 서울집**\\n\\n![](https://blog.kakaocdn.net/dn/mrgiC/btsAwr3JRi0/WFiIfV5e8DoFLkBB6UbORK/img.jpg)\\n\\n**키워드**:\\xa0#한식 #만두전골 #손만두 #도가니수육 #예약필수 #술  \\n**도로명주소**:\\xa0 서울 강남구 언주로93길 22-3 지상 1층   \\n**맛있게 먹은 사람**:\\xa077.35%\\xa0(239 / 309)  \\n**한 줄 평가**: 손으로 직접 빚는 만두, 도가니 수육이 대박인 집!  \\n\\xa0  \\n서울집은 손만두 전문점으로 따끈하게 쪄서 나오는 손만두와 **양이 푸짐하고 쫄깃함이 일품**인 도가니 수육이 맛있는 곳입니다. 역삼 인근에서 맛집으로 소문나서 예약을 하지 않고 방문 시 웨이팅을 해야 할 수도 있으니 가기 전에 예약하시는 걸 추천드려요! (저도 몇 번 그냥 갔다가 웨이팅 해야 했다는..) 특히 요즘 같이 쌀쌀한 날씨에 뜨끈~한 만두 전골에 도가니 수육까지 먹고 나면 긴장이 사르르 풀리는 그런 맛집입니다!\\n\\n## **9. 밀회관 역삼역점**\\n\\n![](https://blog.kakaocdn.net/dn/nNCJb/btsAwrCC9SF/9T4B4EzdkKRhk0cXPfwfzk/img.jpg)\\n\\n**키워드**:\\xa0#술 #플래터 #맥주 #하이볼 #논알콜도있어요 #와인 #단체회식  \\n**도로명주소**:\\xa0서울 강남구 테헤란로33길 18 1층  \\n**맛있게 먹은 사람**:\\xa076.19%\\xa0(432 / 567)  \\n**한 줄 평가**:\\xa0눈이 즐거워지는\\xa0대용량 플래터와 인테리어가 인상적인\\xa0맥주집!  \\n\\xa0  \\n맥주, 하이볼, 와인, 논알콜 다양한 종류가 있어서 주종 상관 없이 취향껏 즐길 수 있어요. 무엇보다 여러 명이서 가서 플래터를 하나 시키면 맛있고 양이 많아서 남녀노소 누구나 즐길 수 있는 술집입니다. 뿐만 아니라 인테리어, 화장실도 깔끔해서 역삼역 회식 장소로 강추!\\n\\n## **10. 신동궁감자탕 역삼직영점**\\n\\n![](https://blog.kakaocdn.net/dn/tT0Kl/btsAzCiCQyR/pbYTSFUAtPKp9XxuCDQpXK/img.jpg)\\n\\n**키워드**:\\xa0#한식 #뼈숯불구이 #감자탕 #양배추샐러드도맛도리 #많이매운편 #볶음밥도필수  \\n**도로명주소**: 서울 강남구 테헤란로10길 21 1층  \\n**맛있게 먹은 사람**: 73.77%\\xa0(987 / 1338)  \\n**한 줄 평가****:**매운 음식을 좋아한다면 도전해볼만한 뼈숯불구이!  \\n\\xa0  \\n매운 음식을 좋아한다면 신동궁감자탕 역삼직영점에서 매운 뼈숯불구이를 도전해보시는 건 어떨까요? 꽤 매운 편이라서 호불호가 갈릴 수 있으니 꼭! 매운 음식을 좋아하는 사람들이랑 가는 것을 추천드려요. 등뼈 사이사이에 낀 살이 부드럽게 발라지고, 중간중간 양배추 샐러드를 곁들여 먹거나 밥이랑 비벼 먹어도 좋아요. 다만 6시를 기준으로 사람들이 물밀 듯이 갈 수 있으니 **웨이팅을 해야 할 수도 있습니다**.\\n\\n이상으로 역삼역 주변 맛집 리스트를 정리해보았는데요, 이번 글을 읽고 역삼역 인근의 맛집을 찾는데 도움이 되셨으면 좋겠습니다! 이상 읽어주셔서 감사합니다. 😁😁\\n\\n#### '[SSAFY](/category/SSAFY) > [SSAFYcial](/category/SSAFY/SSAFYcial)' 카테고리의 다른 글\\n\\n|  |  |\\n| --- | --- |\\n| [리액트(React) 공부 시작하기](/14)\\xa0\\xa0(3) | 2023.12.27 |\\n| [SSAFY 1학기 최종 프로젝트 회고](/13)\\xa0\\xa0(18) | 2023.11.30 |\\n| [[SSAFY/SSAFYcial] SSAFY 금융권 현직자 멘토링(우리은행 엘사 멘토님)](/10)\\xa0\\xa0(18) | 2023.10.31 |\\n| [알고리즘 스터디 가이드](/9)\\xa0\\xa0(14) | 2023.10.29 |\\n| [[SSAFY/SSAFYcial] 초보 개발자에게 유용한 Git 사용법](/6)\\xa0\\xa0(1) | 2023.09.27 |\\n\\n## 태그\\n\\n## **'SSAFY/SSAFYcial'** Related Articles\\n\\n![](//i1.daumcdn.net/thumb/C264x200/?fname=https%3A%2F%2Fblog.kakaocdn.net%2Fdn%2FBQ07B%2FbtsCLoo6FWn%2FPZ7WJ7EREkkAgw4b9M8Iqk%2Fimg.png)\\n![](//i1.daumcdn.net/thumb/C264x200/?fname=https%3A%2F%2Fblog.kakaocdn.net%2Fdn%2FIVQPx%2FbtsBeJ9i90s%2FMNNglu7MMWiFGxNRjCnlW1%2Fimg.png)\\n![](//i1.daumcdn.net/thumb/C264x200/?fname=https%3A%2F%2Fblog.kakaocdn.net%2Fdn%2FNUd3j%2FbtszwgomfOJ%2FplkKUOaw7S0RjcX1NtKdW1%2Fimg.jpg)\\n![](//i1.daumcdn.net/thumb/C264x200/?fname=https%3A%2F%2Fblog.kakaocdn.net%2Fdn%2FcCV9dd%2Fbtszmz8FXej%2FUJ7pQyeXFhdSpAktYPc0yK%2Fimg.jpg)\\n\\nDESIGN BY [TISTORY](#) [관리자](https://sam-repository.tistory.com/manage)\\n\\n## 티스토리툴바\"},\n",
       "  {'title': '역삼역 근처 맛집 베스트10 직장인들의 원픽 모임장소는? - 비행테라스',\n",
       "   'url': 'https://baby.tali.kr/201',\n",
       "   'content': '솥밥인데 그냥 솥밥이 아니라 고급스러운 재료들로 푸짐하게 올려진 솥밥입니다. 스테이크, 도미관자, 장어, 전복 솥밥과 같은 메뉴가 준비되어 있습니다. 건강하고 든든하게 드시고 싶을때 추천하는 역삼역 직장인 입소문 맛집입니다.\\n\\n대표 메뉴 : 스테이크솥밥 17,000원\\n\\n주소 : 서울특별시 강남구 논현로94길 23 지상1층 101, 102호\\n\\n전화번호 : 010-6724-8858\\n\\n## [3위] 츄라우미 역삼본점\\n\\n창가쪽 자리에 앉으시면 분위기가 더욱 좋습니다. 매콤 해산물 나베와 같은 맛있는 안주들이 있는 이자카야입니다. 강남에서 퇴근하고 가볍게 한 잔 걸치는 직장인, 멋지지 않나요? 다이닝 이자카야 츄라우미 역삼본점이 3위입니다.\\n\\n대표 메뉴 : 세이로무시 65,000원\\n\\n주소 : 서울특별시 강남구 언주로93길 21 남전타운\\n\\n전화번호 : 0507-1425-7771\\n\\n## [4위] 신동궁감자탕 역삼직영점 [...] 오늘처럼 주륵주륵 비내리는 날이면 생각나는 곳입니다. 따뜻한 국물과 얼큰한 김치칼국수 정말 너무 맛있네요. 역삼역 근처 직장인들 사이에서 낮술의 성지로 소문난 맛집이기도 합니다.\\n\\n대표 메뉴 : 선덕 닭곰탕 12,000원\\n\\n주소 : 서울특별시 강남구 테헤란로27길 29 주암빌딩 B1\\n\\n전화번호 : 0507-1367-5322\\n\\n## [9위] 진미평양냉면\\n\\n역삼역 근처 맛집 베스트10 다음은 미쉐린 가이드 서울 2023에 선정된 진미평양냉면입니다. 다만 회전율이 좋은 여름에 방문하시는게 좀 더 제대로 된 맛을 즐길 수 있다는 평들이 있습니다.\\n\\n대표 메뉴 : 어복쟁반 소 60,000원\\n\\n주소 : 서울특별시 강남구 학동로 305-3\\n\\n전화번호 : 02-515-3469\\n\\n## [10위] 땀땀\\n\\n양도 엄청나고 맛도 엄청난 곳입니다. 혼밥 맛집으로도 괜찮은 베트남쌀국수집. 매운소곱창 쌀국수는 꼭 한번 드셔보시면 좋겠습니다.\\n\\n대표 메뉴 : 짜조 넴람 (2ea) 3,000원 [...] 비행테라스\\n\\nHome » Uncategorized\\n\\n# 역삼역 근처 맛집 베스트10 직장인들의 원픽 모임장소는?\\n\\n강남 직장인들의 성지 역삼역 근처 맛집 베스트 10곳 알아보겠습니다. 거리는 가까운데 강남역 맛집들과는 또 다른 분위기가 있는 곳이네요. 아무래도 젊은이들 모임장소와 직장인들 앞마당의 차이일까요?\\n\\n## [1위] 트라가 역삼점\\n\\n이베리코 목살 스테이크를 비롯해서 빠에야 같은 스페인 요리를 맛볼 수 있는 곳입니다. 지역정보에 역삼점이라고 나오지만 정확히는 여기가 본점입니다. 이색적인 요리로 특별한 날이나 데이트 코스로 방문하기에도 좋습니다.\\n\\n대표 메뉴 : 트라가세트(2인) 69,000원\\n\\n주소 : 서울특별시 강남구 테헤란로25길 46\\n\\n전화번호 : 0507-1337-0608\\n\\n## [2위] 솔솥 역삼점',\n",
       "   'score': 0.8302782,\n",
       "   'raw_content': \"[비행테라스](https://baby.tali.kr/)\\n\\n[Home](https://baby.tali.kr) » [Uncategorized](https://baby.tali.kr/category/uncategorized)\\n\\n# 역삼역 근처 맛집 베스트10 직장인들의 원픽 모임장소는?\\n\\n강남 직장인들의 성지 역삼역 근처 맛집 베스트 10곳 알아보겠습니다. 거리는 가까운데\\xa0[강남역 맛집](https://baby.tali.kr/119)들과는 또 다른 분위기가 있는 곳이네요. 아무래도 젊은이들 모임장소와 직장인들 앞마당의 차이일까요?\\n\\n## [1위]\\xa0[트라가 역삼점](https://me2.do/G6yPsi7C)\\n\\n이베리코 목살 스테이크를 비롯해서 빠에야 같은 스페인 요리를 맛볼 수 있는 곳입니다. 지역정보에 역삼점이라고 나오지만 정확히는 여기가 본점입니다. 이색적인 요리로 특별한 날이나 데이트 코스로 방문하기에도 좋습니다.\\n\\n대표 메뉴 : 트라가세트(2인) 69,000원\\n\\n주소 : 서울특별시 강남구 테헤란로25길 46\\n\\n전화번호 : 0507-1337-0608\\n\\n## [2위]\\xa0[솔솥 역삼점](https://me2.do/GmfbDfxV)\\n\\n솥밥인데 그냥 솥밥이 아니라 고급스러운 재료들로 푸짐하게 올려진 솥밥입니다. 스테이크, 도미관자, 장어, 전복 솥밥과 같은 메뉴가 준비되어 있습니다. 건강하고 든든하게 드시고 싶을때 추천하는 역삼역 직장인 입소문 맛집입니다.\\n\\n대표 메뉴 : 스테이크솥밥 17,000원\\n\\n주소 : 서울특별시 강남구 논현로94길 23 지상1층 101, 102호\\n\\n전화번호 : 010-6724-8858\\n\\n## [3위]\\xa0[츄라우미 역삼본점](https://me2.do/GguaawE4)\\n\\n창가쪽 자리에 앉으시면 분위기가 더욱 좋습니다. 매콤 해산물 나베와 같은 맛있는 안주들이 있는 이자카야입니다. 강남에서 퇴근하고 가볍게 한 잔 걸치는 직장인, 멋지지 않나요? 다이닝 이자카야 츄라우미 역삼본점이 3위입니다.\\n\\n대표 메뉴 : 세이로무시 65,000원\\n\\n주소 : 서울특별시 강남구 언주로93길 21 남전타운\\n\\n전화번호 : 0507-1425-7771\\n\\n## [4위]\\xa0[신동궁감자탕 역삼직영점](https://me2.do/Fzm721qn)\\n\\n감자탕과 뼈숯불구이가 유명한 신동궁감자탕입니다. 저녁에 하면 항상 웨이팅이 있는데요 5시에 일찍 갔더니 대기 없더라고요. 다만 일행이 전부 도착해야 입장이 가능하니 알박기는 불가능합니다. 5시반에만 가도 웨이팅 쭉 생기고 30분은 기다리셔야 합니다.\\n\\n대표 메뉴 : 감자탕 소 32,000원\\n\\n주소 : 서울특별시 강남구 테헤란로10길 21 1층 신동궁감자탕뼈숯불구이\\n\\n전화번호 : 02-555-3782\\n\\n## [5위]\\xa0[서울집](https://me2.do/5rZE3NE7)\\n\\n손만두가 일품인 한식 만두전골 전문점입니다. 도가니수육 양도 많고 최고네요. 추운 겨울이 가기 전에 들르셔서 호호 불면서 따끈한 국물과 맛있는 만두전골 즐겨보시는 것이 어떨까요?\\n\\n대표 메뉴 : 만두전골 33,000원\\n\\n주소 : 서울특별시 강남구 언주로93길 22-3 지상 1층\\n\\n전화번호 : 02-501-2126\\n\\n## [6위]\\xa0[오마카세 오사이초밥 강남역점](https://me2.do/GGU5wQOz)\\n\\n오마카세 초밥집인데 런치 19000원 디너 29000원 가격 뭐죠? 한번 방문하면 그 다음에는 주변 사람 데리고 또 가고 싶은 곳입니다. 공덕역\\xa0쿄우미\\xa0갔을 때 처럼 친절하게 설명도 잘해주시고 자부심 있는 사장님이 성심껏 만들어주셔서 좋았네요.\\n\\n대표 메뉴 : 런치 19,000원\\n\\n주소 : 서울특별시 강남구 테헤란로1길 28-9 5층\\n\\n전화번호 : 0507-1363-0177\\n\\n## [7위]\\xa0[자매수산](https://me2.do/FgSLTjLk)\\n\\n방어철 되면 한번씩 꼭 들르는 자매수산입니다. 기름지고 오독오독한 식감이 정말 예술이네요. 서울 3대 방어집으로도 꼽히는 곳입니다. 웨이팅 생각하셔서 일찍 방문하시는 게 좋아요~~\\n\\n대표 메뉴 : 실장추천 막썰어회 43,000원\\n\\n주소 : 서울특별시 강남구 봉은사로18길 90\\n\\n전화번호 : 0507-1309-5534\\n\\n## [8위]\\xa0[선덕칼국수 역삼본점](https://me2.do/5MSQ5nQY)\\n\\n오늘처럼 주륵주륵 비내리는 날이면 생각나는 곳입니다. 따뜻한 국물과 얼큰한 김치칼국수 정말 너무 맛있네요. 역삼역 근처 직장인들 사이에서 낮술의 성지로 소문난 맛집이기도 합니다.\\n\\n대표 메뉴 : 선덕 닭곰탕 12,000원\\n\\n주소 : 서울특별시 강남구 테헤란로27길 29 주암빌딩 B1\\n\\n전화번호 : 0507-1367-5322\\n\\n## [9위]\\xa0[진미평양냉면](https://me2.do/F6xN1Z9e)\\n\\n역삼역 근처 맛집 베스트10 다음은 미쉐린 가이드 서울 2023에 선정된 진미평양냉면입니다. 다만 회전율이 좋은 여름에 방문하시는게 좀 더 제대로 된 맛을 즐길 수 있다는 평들이 있습니다.\\n\\n대표 메뉴 : 어복쟁반 소 60,000원\\n\\n주소 : 서울특별시 강남구 학동로 305-3\\n\\n전화번호 : 02-515-3469\\n\\n## [10위]\\xa0[땀땀](https://me2.do/GSUF2Ey4)\\n\\n양도 엄청나고 맛도 엄청난 곳입니다. 혼밥 맛집으로도 괜찮은 베트남쌀국수집. 매운소곱창 쌀국수는 꼭 한번 드셔보시면 좋겠습니다.\\n\\n대표 메뉴 : 짜조 넴람 (2ea) 3,000원\\n\\n주소 : 서울특별시 강남구 강남대로98길 12-5\\n\\n전화번호 : 02-554-8892\\n\\n역삼역 근처 맛집 베스트10 선정을 하다보니 정말 다양한 메뉴의 식당들이 뽑힌 점이 주목할 만 하네요.\\n\\n주로 그 지역 특색을 나타내는 종류의 맛집들이 대거 순위에 이름을 올리곤 하는데 역삼역은 글로벌 음식 메뉴들이 골고루 포진해있는 것 같습니다. 그만큼 입맛도 까다롭고 미식을 즐길 줄 아는 역삼역 직장인들의 취향이 반영된 것이겠죠. 비행테라스에서 알려드렸습니다.\\n\\n## Uncategorized 인기글\\n\\n| [짜릿한 스릴과 풍경이 만나는 국내 출렁다리 여행지 명소 10선](https://baby.tali.kr/584) |\\n| --- |\\n| [국립중앙박물관 어린이박물관 온라인 예약방법](https://baby.tali.kr/315) |\\n| [유나이티드 항공 위탁수하물 규정과 초과요금 알아보기](https://baby.tali.kr/366) |\\n| [대한항공 호주 뉴질랜드 항공권 운임표 가격정리](https://baby.tali.kr/580) |\\n| [부산 남구 마을버스 8번 (708-A) 노선도 정류장 실시간위치](https://baby.tali.kr/618) |\\n\\n### 댓글 남기기 [응답 취소](/201#respond)\\n\\n댓글\\n\\n다음 번 댓글 작성을 위해 이 브라우저에 이름, 이메일, 그리고 웹사이트를 저장합니다.\\n\\n## Product Highlight\\n\\nLorem ipsum dolor sit amet, consectetur adipiscing elit. Nunc imperdiet rhoncus arcu non aliquet. Sed tempor mauris a purus porttitor\\n\\n## Recent Posts\\n\\n[원영턴 노래 중국틱톡 난리난 장원영 챌린지에 본인등판](https://baby.tali.kr/333)\\n\\n[세계 유명 건축물 10곳의 설계자와 역사적 배경](https://baby.tali.kr/152)\\n\\n![](data:image/svg+xml,%3Csvg%20xmlns='http://www.w3.org/2000/svg'%20viewBox='0%200%20150%20150'%3E%3C/svg%3E)\\n![](https://baby.tali.kr/wp-content/uploads/2025/06/2-48-150x150.webp)\\n\\n[한국거주 중국인 일본대사관 일본비자 발급방법](https://baby.tali.kr/85)\\n\\n[전국 철도체험 학습장 17곳 리스트 기차 좋아하는 아이들 강추](https://baby.tali.kr/176)\\n\\n![](data:image/svg+xml,%3Csvg%20xmlns='http://www.w3.org/2000/svg'%20viewBox='0%200%20150%20150'%3E%3C/svg%3E)\\n![](https://baby.tali.kr/wp-content/uploads/2025/06/1-61-150x150.webp)\\n\\n[수원,영통,안양,군포 인천공항버스 운행 시간표와 요금안내](https://baby.tali.kr/189)\\n\\n![](data:image/svg+xml,%3Csvg%20xmlns='http://www.w3.org/2000/svg'%20viewBox='0%200%20150%20150'%3E%3C/svg%3E)\\n![](https://baby.tali.kr/wp-content/uploads/2025/06/6-19-150x150.webp)\\n\\n[인천공항 제1터미널 공항버스 타는 곳과 예매방법](https://baby.tali.kr/194)\\n\\n[인천공항 제1터미널 라운지 위치, 운영시간, 전화번호 정리](https://baby.tali.kr/195)\\n\\n[인천공항 제2터미널 라운지 위치, 운영시간, 전화번호 정리](https://baby.tali.kr/196)\\n\\n![](data:image/svg+xml,%3Csvg%20xmlns='http://www.w3.org/2000/svg'%20viewBox='0%200%20150%20150'%3E%3C/svg%3E)\\n![](https://baby.tali.kr/wp-content/uploads/2025/06/4-26-150x150.webp)\\n\\n[KTX 특실, 일반실 좌석배치도 마주보는좌석 피하기, 창문, 콘센트 위치](https://baby.tali.kr/240)\\n\\n[M5107 평일 출퇴근 시간 vs 주말 정류장별 이용 승객 수](https://baby.tali.kr/242)\\n\\n[Privacy Policy](#)\\n\\n[Terms](#)\\n\\n[Contact](#)\"},\n",
       "  {'title': '[맛집] 역삼역 맛집 리스트 Best 10',\n",
       "   'url': 'https://blog.idataground.com/?p=1021',\n",
       "   'content': '[맛집] 역삼역 맛집 리스트 Best 10 · 순정한우 정육식당. 위치: 서울 강남구 논현로94길 19 · 더 뭉티기 역삼점. 위치: 서울 강남구 언주로 311 1층',\n",
       "   'score': 0.8259413}],\n",
       " 'answer': '역삼역 인근 맛집으로는 \"신동궁감자탕 역삼직영점\"이 매운 뼈숯불구이로 유명하며, \"서울집\"은 손으로 직접 빚은 만두 전골과 도가니 수육이 인상적입니다. 또한, 이탈리아 요리를 즐길 수 있는 \"지아니스나폴리 역삼 본점\"도 추천할 만합니다. 각 맛집은 고유의',\n",
       " 'retry_count': 1}"
      ]
     },
     "execution_count": 33,
     "metadata": {},
     "output_type": "execute_result"
    }
   ],
   "source": [
    "initial_state = {\"query\": \"역삼역 맛집을 추천해주세요\", \"retry_count\": 0}\n",
    "graph.invoke(initial_state)"
   ]
  },
  {
   "cell_type": "code",
   "execution_count": 34,
   "metadata": {},
   "outputs": [
    {
     "data": {
      "text/plain": [
       "{'query': '소득이 5천만원인 거주자의 소득세를 알려주세요',\n",
       " 'context': [Document(id='88337565-ab92-48d3-925f-e895647a45de', metadata={'source': './documents/income_tax.txt'}, page_content='② 제70조제1항, 제70조의2에 따른 제74조에 따라 차례로 할 것이 제70조제1항제2호에 따르며 서류를 제출하여야 한다는 경우에는 기준소득 중 거주자 본인이 된다(분산)과 제70조제2와 제74조에 따른 제료 및 제대법을 포함한다. 단, 차별제표청정인 그 업체를 남겨 제출한 경우로 그에 대하여 아니하다.<개정 2013. 1. 1.>\\n  ③ 제80조에 따른 수익과 관련의 경우에는 기초공제 중 거주자 본인이 된다(분산)과 그에 관한 적지사항을 분명히 한다.\\n[전문개정 2009. 12. 31.]\\n[제목개정 2014. 1. 1.]\\n제54조의2(공동사업에 대한 소득공제 등 특례) 제51조의3 또는 「조세특례제한법」에 따른 소득공제를 적용하거나 제59조의2에 따른 세액감면을 적용하는 경우 제54조제3항에 따라 공동사업자의 소득에 합산과세되는 특별세액거래의 지출․납입․투자 등의 금액이 있을 경우 주된 공동사업자의 소득에 합산과세되는 소득금액에 합산되어 주된 공동사업자의 합산과세세액은 공동사업소득액 또는 공동사업창출세액을 계산할 때 소득공제 또는 세액공제를 받을 수 있다. \\n[개정 2014. 1. 1.]\\n[전문개정 2009. 12. 31.]\\n[제목개정 2014. 1. 1.]\\n제2절 세액의 계산 <개정 2009. 12. 31.>\\n제1관 세율 <개정 2009. 12. 31.>\\n제55조(세율) 거주자의 종합소득에 대한 소득세는 해당 연도의 종합소득과세표준에 다음의 세율을 적용하여 계산한 금액(이하 \"종합소득과세표준세액\"이라 한다)을 그 세액으로 한다. <개정 2014. 1. 1., 2016. 12. 20., 2017. 12. 19., 2020. 12. 29., 2022. 12. 31.>\\n종합소득\\n┌───────────────┐\\n│ 과세표준의 6개 구간 │\\n├───────────────┤\\n│ 1,400만원 이하        │ 84만원 + (1,400만원을 초과하는 금액의 15%)  │\\n│ 1,400만원 초과        │ 84만원 + (5,000만원을 초과하는 금액의 24%)  │\\n│ 8,800만원 이하        │ 624만원 + (5,000만원을 초과하는 금액의 24%)  │\\n│ 8,800만원 초과        │ 1,536만원 + (8,800만원을 초과하는 금액의 35%)  │\\n│ 1.5억원 초과          │ 4,046만원 + (1,500만원을 초과하는 금액의 38%)  │\\n│ 3억원 초과            │ 6,460만원 + (3억원을 초과하는 금액의 40%)  │\\n│ 5억원 초과            │ 14,760만원 + (5억원을 초과하는 금액의 42%)  │\\n│ 10억원 초과           │ 38,406만원 + (10억원을 초과하는 금액의 45%)  │\\n└───────────────┘\\n② 거주자의 퇴직소득에 대한 소득세는 다음 각 호의 순서에 따라 계산한 금액(이하 ‘퇴직소득 산출세액’이라 한다)으로 한다. <개정 2013. 1. 1., 2014. 12. 23.>'),\n",
       "  Document(id='04cb49e4-441c-43cf-9f55-145fcf522465', metadata={'source': './documents/income_tax.txt'}, page_content='② 제70조제1항, 제70조의2에 따른 제74조에 따라 차례로 할 것이 제70조제1항제2호에 따르며 서류를 제출하여야 한다는 경우에는 기준소득 중 거주자 본인이 된다(분산)과 제70조제2와 제74조에 따른 제료 및 제대법을 포함한다. 단, 차별제표청정인 그 업체를 남겨 제출한 경우로 그에 대하여 아니하다.<개정 2013. 1. 1.>\\n  ③ 제80조에 따른 수익과 관련의 경우에는 기초공제 중 거주자 본인이 된다(분산)과 그에 관한 적지사항을 분명히 한다.\\n[전문개정 2009. 12. 31.]\\n[제목개정 2014. 1. 1.]\\n제54조의2(공동사업에 대한 소득공제 등 특례) 제51조의3 또는 「조세특례제한법」에 따른 소득공제를 적용하거나 제59조의2에 따른 세액감면을 적용하는 경우 제54조제3항에 따라 공동사업자의 소득에 합산과세되는 특별세액거래의 지출․납입․투자 등의 금액이 있을 경우 주된 공동사업자의 소득에 합산과세되는 소득금액에 합산되어 주된 공동사업자의 합산과세세액은 공동사업소득액 또는 공동사업창출세액을 계산할 때 소득공제 또는 세액공제를 받을 수 있다. \\n[개정 2014. 1. 1.]\\n[전문개정 2009. 12. 31.]\\n[제목개정 2014. 1. 1.]\\n제2절 세액의 계산 <개정 2009. 12. 31.>\\n제1관 세율 <개정 2009. 12. 31.>\\n제55조(세율) 거주자의 종합소득에 대한 소득세는 해당 연도의 종합소득과세표준에 다음의 세율을 적용하여 계산한 금액(이하 \"종합소득과세표준세액\"이라 한다)을 그 세액으로 한다. <개정 2014. 1. 1., 2016. 12. 20., 2017. 12. 19., 2020. 12. 29., 2022. 12. 31.>\\n종합소득\\n┌───────────────┐\\n│ 과세표준의 6개 구간 │\\n├───────────────┤\\n│ 1,400만원 이하        │ 84만원 + (1,400만원을 초과하는 금액의 15%)  │\\n│ 1,400만원 초과        │ 84만원 + (5,000만원을 초과하는 금액의 24%)  │\\n│ 8,800만원 이하        │ 624만원 + (5,000만원을 초과하는 금액의 24%)  │\\n│ 8,800만원 초과        │ 1,536만원 + (8,800만원을 초과하는 금액의 35%)  │\\n│ 1.5억원 초과          │ 4,046만원 + (1,500만원을 초과하는 금액의 38%)  │\\n│ 3억원 초과            │ 6,460만원 + (3억원을 초과하는 금액의 40%)  │\\n│ 5억원 초과            │ 14,760만원 + (5억원을 초과하는 금액의 42%)  │\\n│ 10억원 초과           │ 38,406만원 + (10억원을 초과하는 금액의 45%)  │\\n└───────────────┘\\n② 거주자의 퇴직소득에 대한 소득세는 다음 각 호의 순서에 따라 계산한 금액(이하 ‘퇴직소득 산출세액’이라 한다)으로 한다. <개정 2013. 1. 1., 2014. 12. 23.>'),\n",
       "  Document(id='efc91b11-220c-458e-addf-13dd02fa0926', metadata={'source': './documents/income_tax.txt'}, page_content='5년 이하: 30만원 → 납입연수\\n5년 초과 10년 이하: 150만원 + 50만원 × (납입연수 - 5년)\\n10년 초과 20년 이하: 400만원 + 80만원 × (납입연수 - 10년)\\n20년 초과: 1,200만원 + 120만원 × (납입연수 - 20년)\\n\\n② 직장근로자 초과관세환급금을 분배하여 지급받는 경우 세액의 계산 방법 등 필요한 사항은 대통령령으로 정한다. \\n<대통령 2014. 12. 23.>\\n<전문개정 2009. 12. 31.>\\n제64조(부동산매매업자에 대한 세액 계산의 특례)\\n1) 대통령령으로 정하는 부동산매매업(이하 “부동산매매업”이라 한다)을 영위하는 거주자가 이하 “부동산매매업자”라 한다)로서 종합소득세법에 제104조제1항제1호(본항을 포함한다) 및 제103조 또는 같은 조 제7항 각 호의 어느 하나에 해당하는 자산의 매매자익(이하 “주택등매매차익”이라 한다)이 있는 자의 종합소득 산출세액은 다음 각 호의 세액 중 많은 것으로 한다. \\n<개정 2014. 12. 23., 2017. 12. 19., 2020. 12. 29.>\\n1. 종합소득 산출세액\\n\\n다음 각 목에 따른 세액의 합계액\\n  가. 주택등매매차익에 따른 세율을 적용하여 산출한 세액의 합계액\\n  나. 종합소득세법 제55조에 따라 주택등매매차익에 대한 개별세액을 공제한 금액을 과세표준으로 하고 이에 제55조에 따른 세율을 적용하여 산출세액')],\n",
       " 'answer': '소득이 5천만 원인 거주자의 소득세는 624만 원입니다. 이는 과세표준 구간에 따라 8,800만 원 이하에 적용되는 세율을 따른 것입니다.',\n",
       " 'retry_count': 0}"
      ]
     },
     "execution_count": 34,
     "metadata": {},
     "output_type": "execute_result"
    }
   ],
   "source": [
    "initial_state = {\"query\": \"소득이 5천만원인 거주자의 소득세를 알려주세요\", \"retry_count\": 0}\n",
    "graph.invoke(initial_state)"
   ]
  },
  {
   "cell_type": "code",
   "execution_count": null,
   "metadata": {},
   "outputs": [],
   "source": []
  }
 ],
 "metadata": {
  "kernelspec": {
   "display_name": "Python 3",
   "language": "python",
   "name": "python3"
  },
  "language_info": {
   "codemirror_mode": {
    "name": "ipython",
    "version": 3
   },
   "file_extension": ".py",
   "mimetype": "text/x-python",
   "name": "python",
   "nbconvert_exporter": "python",
   "pygments_lexer": "ipython3",
   "version": "3.13.2"
  }
 },
 "nbformat": 4,
 "nbformat_minor": 2
}
