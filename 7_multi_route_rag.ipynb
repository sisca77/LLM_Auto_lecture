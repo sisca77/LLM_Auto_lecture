{
 "cells": [
  {
   "cell_type": "code",
   "execution_count": 1,
   "metadata": {},
   "outputs": [
    {
     "name": "stdout",
     "output_type": "stream",
     "text": [
      "Note: you may need to restart the kernel to use updated packages.\n"
     ]
    },
    {
     "name": "stderr",
     "output_type": "stream",
     "text": [
      "\n",
      "[notice] A new release of pip is available: 24.3.1 -> 25.1.1\n",
      "[notice] To update, run: python.exe -m pip install --upgrade pip\n"
     ]
    },
    {
     "name": "stdout",
     "output_type": "stream",
     "text": [
      "Note: you may need to restart the kernel to use updated packages.\n"
     ]
    },
    {
     "name": "stderr",
     "output_type": "stream",
     "text": [
      "ERROR: Could not find a version that satisfies the requirement ython-dotenv (from versions: none)\n",
      "\n",
      "[notice] A new release of pip is available: 24.3.1 -> 25.1.1\n",
      "[notice] To update, run: python.exe -m pip install --upgrade pip\n",
      "ERROR: No matching distribution found for ython-dotenv\n"
     ]
    },
    {
     "name": "stdout",
     "output_type": "stream",
     "text": [
      "Note: you may need to restart the kernel to use updated packages.\n"
     ]
    },
    {
     "name": "stderr",
     "output_type": "stream",
     "text": [
      "\n",
      "[notice] A new release of pip is available: 24.3.1 -> 25.1.1\n",
      "[notice] To update, run: python.exe -m pip install --upgrade pip\n"
     ]
    }
   ],
   "source": [
    "%pip install -q python-dotenv langchain-openai langgraph langchain_chroma\n",
    "%pip install -qU pypdf langchain-community langchain-text-splitters ython-dotenv\n",
    "%pip install -q \"unstructured[md]\" nltk"
   ]
  },
  {
   "cell_type": "code",
   "execution_count": 2,
   "metadata": {},
   "outputs": [
    {
     "name": "stdout",
     "output_type": "stream",
     "text": [
      "Requirement already satisfied: python-dotenv in c:\\users\\bitcamp\\appdata\\local\\programs\\python\\python313\\lib\\site-packages (1.1.0)\n",
      "Note: you may need to restart the kernel to use updated packages.\n"
     ]
    },
    {
     "name": "stderr",
     "output_type": "stream",
     "text": [
      "\n",
      "[notice] A new release of pip is available: 24.3.1 -> 25.1.1\n",
      "[notice] To update, run: python.exe -m pip install --upgrade pip\n"
     ]
    }
   ],
   "source": [
    "%pip install python-dotenv"
   ]
  },
  {
   "cell_type": "code",
   "execution_count": 3,
   "metadata": {},
   "outputs": [
    {
     "name": "stderr",
     "output_type": "stream",
     "text": [
      "python-dotenv could not parse statement starting at line 11\n",
      "python-dotenv could not parse statement starting at line 13\n",
      "python-dotenv could not parse statement starting at line 14\n",
      "python-dotenv could not parse statement starting at line 15\n",
      "python-dotenv could not parse statement starting at line 16\n",
      "python-dotenv could not parse statement starting at line 18\n",
      "python-dotenv could not parse statement starting at line 19\n",
      "python-dotenv could not parse statement starting at line 20\n"
     ]
    },
    {
     "data": {
      "text/plain": [
       "True"
      ]
     },
     "execution_count": 3,
     "metadata": {},
     "output_type": "execute_result"
    }
   ],
   "source": [
    "import os\n",
    "from dotenv import load_dotenv\n",
    "load_dotenv('../.env')"
   ]
  },
  {
   "cell_type": "code",
   "execution_count": 4,
   "metadata": {},
   "outputs": [],
   "source": [
    "from typing_extensions import TypedDict\n",
    "from langgraph.graph import StateGraph, START, END\n",
    "\n",
    "class AgentState(TypedDict):\n",
    "    query: str\n",
    "    context: str\n",
    "    answer: str\n"
   ]
  },
  {
   "cell_type": "code",
   "execution_count": 5,
   "metadata": {},
   "outputs": [
    {
     "name": "stderr",
     "output_type": "stream",
     "text": [
      "C:\\Users\\bitcamp\\AppData\\Local\\Temp\\ipykernel_14732\\3923554161.py:3: LangChainDeprecationWarning: The class `TavilySearchResults` was deprecated in LangChain 0.3.25 and will be removed in 1.0. An updated version of the class exists in the :class:`~langchain-tavily package and should be used instead. To use it run `pip install -U :class:`~langchain-tavily` and import as `from :class:`~langchain_tavily import TavilySearch``.\n",
      "  tavily_search_tool = TavilySearchResults(\n"
     ]
    }
   ],
   "source": [
    "from langchain_community.tools import TavilySearchResults\n",
    "\n",
    "tavily_search_tool = TavilySearchResults(\n",
    "    max_results=3,\n",
    "    search_depth=\"advanced\",\n",
    "    include_answer=True,\n",
    "    include_raw_content=True,\n",
    "    include_images=True,\n",
    ")\n",
    "\n",
    "def web_search(state: AgentState) -> AgentState:\n",
    "    \"\"\"\n",
    "    주어진 state를 기반으로 웹 검색을 수행합니다.\n",
    "\n",
    "    Args:\n",
    "        state (AgentState): 사용자의 질문을 포함한 에이전트의 현재 state.\n",
    "\n",
    "    Returns:\n",
    "        AgentState: 웹 검색 결과가 추가된 state를 반환합니다.\n",
    "    \"\"\"\n",
    "    query = state['query']\n",
    "    results = tavily_search_tool.invoke(query)\n",
    "\n",
    "    return {'context': results}\n",
    "    # return {'context': results, 'retry_count': retry_count + 1}"
   ]
  },
  {
   "cell_type": "code",
   "execution_count": null,
   "metadata": {},
   "outputs": [],
   "source": []
  },
  {
   "cell_type": "code",
   "execution_count": 29,
   "metadata": {},
   "outputs": [],
   "source": [
    "from langchain import hub\n",
    "from langchain_openai import ChatOpenAI\n",
    "from langchain_core.output_parsers import StrOutputParser\n",
    "from langchain_core.prompts import ChatPromptTemplate\n",
    "\n",
    "# 허브에서 RAG 프롬프트를 가져옵니다\n",
    "# generate_prompt = hub.pull(\"rlm/rag-prompt\")\n",
    "\n",
    "# rag_prompt = \"\"\"([\n",
    "#     ('system', '다음 컨텍스트를 바탕으로 사용자의 질문에 답하세요.\\n\\n{context}'),\n",
    "#     ('human', '{question}')\n",
    "# ])\"\"\"\n",
    "\n",
    "rag_prompt = ChatPromptTemplate.from_messages([\n",
    "    (\"system\", \"다음의 컨텍스트를 바탕으로 사용자의 질문에 답하세요. 컨텍스트에 없는 사실을 답변하지 말고, '모른다고 답하세요'. \\n\\n{context}\"),\n",
    "    (\"human\", \"{question}\")\n",
    "])\n",
    "\n",
    "# 지정된 매개변수로 언어 모델을 초기화합니다\n",
    "generate_llm = ChatOpenAI(model='gpt-4o')\n",
    "\n",
    "def web_generate(state: AgentState) -> AgentState:\n",
    "    \"\"\"\n",
    "    주어진 질문과 답변을 기반으로 응답을 생성합니다.\n",
    "\n",
    "    Args:\n",
    "        state (AgentState): 사용자의 질문과 문맥을 포함한 에이전트의 현재 state.\n",
    "\n",
    "    Returns:\n",
    "        AgentState: 생성된 응답을 포함하는 state를 반환합니다.\n",
    "    \"\"\"\n",
    "    # state에서 컨텍스트와 쿼리를 추출합니다\n",
    "    context = state['context']\n",
    "    query = state['query']\n",
    "    \n",
    "    # 작업 체인을 생성합니다: 먼저 프롬프트를 검색하고, 그 다음 응답을 생성합니다\n",
    "    rag_chain = rag_prompt | generate_llm | StrOutputParser()\n",
    "    \n",
    "    # 쿼리와 컨텍스트로 체인을 호출하여 응답을 얻습니다\n",
    "    response = rag_chain.invoke({'question': query, 'context': context})\n",
    "    \n",
    "    # 생성된 답변을 반환합니다\n",
    "    return {'answer': response}"
   ]
  },
  {
   "cell_type": "code",
   "execution_count": 13,
   "metadata": {},
   "outputs": [],
   "source": [
    "from langchain_openai import ChatOpenAI\n",
    "from langchain_core.output_parsers import StrOutputParser\n",
    "\n",
    "# OpenAI의 GPT-4o-mini 모델을 사용합니다\n",
    "basic_llm = ChatOpenAI(model=\"gpt-4o\")  # 간단한 모델\n",
    "\n",
    "def basic_generate(state: AgentState) -> AgentState:\n",
    "    \"\"\"\n",
    "    사용자의 질문에 기반하여 기본 답변을 생성합니다.\n",
    "\n",
    "    Args:\n",
    "        state (AgentState): 사용자의 질문을 포함한 에이전트의 현재 state.\n",
    "\n",
    "    Returns:\n",
    "        AgentState: 생성된 답변을 포함한 state를 반환합니다.\n",
    "    \"\"\"\n",
    "    # state에서 질문을 추출합니다\n",
    "    query = state['query']\n",
    "    \n",
    "    # 기본 LLM 체인을 생성합니다\n",
    "    basic_llm_chain = basic_llm | StrOutputParser()\n",
    "    \n",
    "    # 체인을 사용하여 답변을 생성합니다\n",
    "    llm_response = basic_llm_chain.invoke(query)\n",
    "    \n",
    "    # 생성된 답변을 'answer'로 반환합니다\n",
    "    return {'answer': llm_response}"
   ]
  },
  {
   "cell_type": "code",
   "execution_count": 14,
   "metadata": {},
   "outputs": [],
   "source": [
    "from langchain_core.prompts import ChatPromptTemplate\n",
    "from pydantic import BaseModel, Field\n",
    "from typing import Literal\n",
    "from langchain_openai import ChatOpenAI\n",
    "\n",
    "class Route(BaseModel):\n",
    "    target: Literal['vector_store', 'llm', 'web_search'] = Field(description=\"The target for the query to answer\")\n",
    "\n",
    "router_system_prompt = \"\"\"\n",
    "You are an expert at routing a user's question to 'vector_store', 'llm', or 'web_search'.\n",
    "'vector_store' contains information about income tax up to December 2024.\n",
    "if you think the question is simple enough use 'llm'\n",
    "if you think you need to search the web to answer the question use 'web_search'\n",
    "\"\"\"\n",
    "\n",
    "router_prompt = ChatPromptTemplate.from_messages([\n",
    "    (\"system\", router_system_prompt),\n",
    "    (\"human\", \"{query}\")\n",
    "])\n",
    "\n",
    "router_llm = ChatOpenAI(model='gpt-4o')\n",
    "structured_router_llm = router_llm.with_structured_output(Route)\n",
    "\n",
    "def router(state:AgentState) -> Literal['vector_store', 'llm', 'web_search']:\n",
    "    \"\"\"\n",
    "    사용자의 질문에 기반하여 적절한 경로를 결정합니다.\n",
    "\n",
    "    Args:\n",
    "        state (AgentState): 사용자의 질문을 포함한 에이전트의 현재 state.\n",
    "\n",
    "    Returns:\n",
    "        Literal['vector_store', 'llm', 'web_search']: 질문을 처리하기 위한 적절한 경로를 나타내는 문자열.\n",
    "    \"\"\"\n",
    "\n",
    "    query = state['query']\n",
    "    router_chain = router_prompt | structured_router_llm\n",
    "    response = router_chain.invoke({'query': query})\n",
    "\n",
    "    return response.target\n"
   ]
  },
  {
   "cell_type": "code",
   "execution_count": 19,
   "metadata": {},
   "outputs": [],
   "source": [
    "graph_builder = StateGraph(AgentState)"
   ]
  },
  {
   "cell_type": "code",
   "execution_count": 20,
   "metadata": {},
   "outputs": [
    {
     "data": {
      "text/plain": [
       "<langgraph.graph.state.StateGraph at 0x29a91277a80>"
      ]
     },
     "execution_count": 20,
     "metadata": {},
     "output_type": "execute_result"
    }
   ],
   "source": [
    "from income_tax_graph import graph as income_tax_subgraph\n",
    "\n",
    "graph_builder.add_node('income_tax_agent', income_tax_subgraph)  # subgraph\n",
    "graph_builder.add_node('web_search', web_search)\n",
    "graph_builder.add_node('web_generate', web_generate)\n",
    "graph_builder.add_node('basic_generate', basic_generate)"
   ]
  },
  {
   "cell_type": "code",
   "execution_count": 21,
   "metadata": {},
   "outputs": [
    {
     "data": {
      "text/plain": [
       "<langgraph.graph.state.StateGraph at 0x29a91277a80>"
      ]
     },
     "execution_count": 21,
     "metadata": {},
     "output_type": "execute_result"
    }
   ],
   "source": [
    "from langgraph.graph import START, END\n",
    "\n",
    "graph_builder.add_conditional_edges(\n",
    "    START, \n",
    "    router,\n",
    "    {\n",
    "        'vector_store': 'income_tax_agent',\n",
    "        'llm': 'basic_generate',\n",
    "        'web_search': 'web_search'\n",
    "    }\n",
    ")\n",
    "\n",
    "graph_builder.add_edge('web_search', 'web_generate')\n",
    "graph_builder.add_edge('web_generate', END)\n",
    "graph_builder.add_edge('basic_generate', END)\n",
    "graph_builder.add_edge('income_tax_agent', END)"
   ]
  },
  {
   "cell_type": "code",
   "execution_count": 22,
   "metadata": {},
   "outputs": [],
   "source": [
    "graph = graph_builder.compile()"
   ]
  },
  {
   "cell_type": "code",
   "execution_count": 23,
   "metadata": {},
   "outputs": [
    {
     "data": {
      "image/png": "[encoded data removed]",
      "text/plain": [
       "<IPython.core.display.Image object>"
      ]
     },
     "metadata": {},
     "output_type": "display_data"
    }
   ],
   "source": [
    "from IPython.display import Image, display\n",
    "\n",
    "display(Image(graph.get_graph().draw_mermaid_png()))"
   ]
  },
  {
   "cell_type": "code",
   "execution_count": 24,
   "metadata": {},
   "outputs": [
    {
     "data": {
      "text/plain": [
       "{'query': '대한민국의 수도는 어디인가요?', 'answer': '대한민국의 수도는 서울입니다.'}"
      ]
     },
     "execution_count": 24,
     "metadata": {},
     "output_type": "execute_result"
    }
   ],
   "source": [
    "initial_state = {'query': '대한민국의 수도는 어디인가요?'}\n",
    "graph.invoke(initial_state)"
   ]
  },
  {
   "cell_type": "code",
   "execution_count": 25,
   "metadata": {},
   "outputs": [
    {
     "data": {
      "text/plain": [
       "{'query': '연소득이 1억원인 사람의 소득세는 얼마인가요?',\n",
       " 'context': [Document(id='88337565-ab92-48d3-925f-e895647a45de', metadata={'source': './documents/income_tax.txt'}, page_content='② 제70조제1항, 제70조의2에 따른 제74조에 따라 차례로 할 것이 제70조제1항제2호에 따르며 서류를 제출하여야 한다는 경우에는 기준소득 중 거주자 본인이 된다(분산)과 제70조제2와 제74조에 따른 제료 및 제대법을 포함한다. 단, 차별제표청정인 그 업체를 남겨 제출한 경우로 그에 대하여 아니하다.<개정 2013. 1. 1.>\\n  ③ 제80조에 따른 수익과 관련의 경우에는 기초공제 중 거주자 본인이 된다(분산)과 그에 관한 적지사항을 분명히 한다.\\n[전문개정 2009. 12. 31.]\\n[제목개정 2014. 1. 1.]\\n제54조의2(공동사업에 대한 소득공제 등 특례) 제51조의3 또는 「조세특례제한법」에 따른 소득공제를 적용하거나 제59조의2에 따른 세액감면을 적용하는 경우 제54조제3항에 따라 공동사업자의 소득에 합산과세되는 특별세액거래의 지출․납입․투자 등의 금액이 있을 경우 주된 공동사업자의 소득에 합산과세되는 소득금액에 합산되어 주된 공동사업자의 합산과세세액은 공동사업소득액 또는 공동사업창출세액을 계산할 때 소득공제 또는 세액공제를 받을 수 있다. \\n[개정 2014. 1. 1.]\\n[전문개정 2009. 12. 31.]\\n[제목개정 2014. 1. 1.]\\n제2절 세액의 계산 <개정 2009. 12. 31.>\\n제1관 세율 <개정 2009. 12. 31.>\\n제55조(세율) 거주자의 종합소득에 대한 소득세는 해당 연도의 종합소득과세표준에 다음의 세율을 적용하여 계산한 금액(이하 \"종합소득과세표준세액\"이라 한다)을 그 세액으로 한다. <개정 2014. 1. 1., 2016. 12. 20., 2017. 12. 19., 2020. 12. 29., 2022. 12. 31.>\\n종합소득\\n┌───────────────┐\\n│ 과세표준의 6개 구간 │\\n├───────────────┤\\n│ 1,400만원 이하        │ 84만원 + (1,400만원을 초과하는 금액의 15%)  │\\n│ 1,400만원 초과        │ 84만원 + (5,000만원을 초과하는 금액의 24%)  │\\n│ 8,800만원 이하        │ 624만원 + (5,000만원을 초과하는 금액의 24%)  │\\n│ 8,800만원 초과        │ 1,536만원 + (8,800만원을 초과하는 금액의 35%)  │\\n│ 1.5억원 초과          │ 4,046만원 + (1,500만원을 초과하는 금액의 38%)  │\\n│ 3억원 초과            │ 6,460만원 + (3억원을 초과하는 금액의 40%)  │\\n│ 5억원 초과            │ 14,760만원 + (5억원을 초과하는 금액의 42%)  │\\n│ 10억원 초과           │ 38,406만원 + (10억원을 초과하는 금액의 45%)  │\\n└───────────────┘\\n② 거주자의 퇴직소득에 대한 소득세는 다음 각 호의 순서에 따라 계산한 금액(이하 ‘퇴직소득 산출세액’이라 한다)으로 한다. <개정 2013. 1. 1., 2014. 12. 23.>'),\n",
       "  Document(id='04cb49e4-441c-43cf-9f55-145fcf522465', metadata={'source': './documents/income_tax.txt'}, page_content='② 제70조제1항, 제70조의2에 따른 제74조에 따라 차례로 할 것이 제70조제1항제2호에 따르며 서류를 제출하여야 한다는 경우에는 기준소득 중 거주자 본인이 된다(분산)과 제70조제2와 제74조에 따른 제료 및 제대법을 포함한다. 단, 차별제표청정인 그 업체를 남겨 제출한 경우로 그에 대하여 아니하다.<개정 2013. 1. 1.>\\n  ③ 제80조에 따른 수익과 관련의 경우에는 기초공제 중 거주자 본인이 된다(분산)과 그에 관한 적지사항을 분명히 한다.\\n[전문개정 2009. 12. 31.]\\n[제목개정 2014. 1. 1.]\\n제54조의2(공동사업에 대한 소득공제 등 특례) 제51조의3 또는 「조세특례제한법」에 따른 소득공제를 적용하거나 제59조의2에 따른 세액감면을 적용하는 경우 제54조제3항에 따라 공동사업자의 소득에 합산과세되는 특별세액거래의 지출․납입․투자 등의 금액이 있을 경우 주된 공동사업자의 소득에 합산과세되는 소득금액에 합산되어 주된 공동사업자의 합산과세세액은 공동사업소득액 또는 공동사업창출세액을 계산할 때 소득공제 또는 세액공제를 받을 수 있다. \\n[개정 2014. 1. 1.]\\n[전문개정 2009. 12. 31.]\\n[제목개정 2014. 1. 1.]\\n제2절 세액의 계산 <개정 2009. 12. 31.>\\n제1관 세율 <개정 2009. 12. 31.>\\n제55조(세율) 거주자의 종합소득에 대한 소득세는 해당 연도의 종합소득과세표준에 다음의 세율을 적용하여 계산한 금액(이하 \"종합소득과세표준세액\"이라 한다)을 그 세액으로 한다. <개정 2014. 1. 1., 2016. 12. 20., 2017. 12. 19., 2020. 12. 29., 2022. 12. 31.>\\n종합소득\\n┌───────────────┐\\n│ 과세표준의 6개 구간 │\\n├───────────────┤\\n│ 1,400만원 이하        │ 84만원 + (1,400만원을 초과하는 금액의 15%)  │\\n│ 1,400만원 초과        │ 84만원 + (5,000만원을 초과하는 금액의 24%)  │\\n│ 8,800만원 이하        │ 624만원 + (5,000만원을 초과하는 금액의 24%)  │\\n│ 8,800만원 초과        │ 1,536만원 + (8,800만원을 초과하는 금액의 35%)  │\\n│ 1.5억원 초과          │ 4,046만원 + (1,500만원을 초과하는 금액의 38%)  │\\n│ 3억원 초과            │ 6,460만원 + (3억원을 초과하는 금액의 40%)  │\\n│ 5억원 초과            │ 14,760만원 + (5억원을 초과하는 금액의 42%)  │\\n│ 10억원 초과           │ 38,406만원 + (10억원을 초과하는 금액의 45%)  │\\n└───────────────┘\\n② 거주자의 퇴직소득에 대한 소득세는 다음 각 호의 순서에 따라 계산한 금액(이하 ‘퇴직소득 산출세액’이라 한다)으로 한다. <개정 2013. 1. 1., 2014. 12. 23.>'),\n",
       "  Document(id='aa9d6403-7a0f-4ab6-8d89-7f4b21e2316e', metadata={'source': './documents/income_tax.txt'}, page_content='소득세법\\n[시행 2024. 7. 1.] [법률 제19933호, 2023. 12. 31., 일부개정]\\n기획재정부 (세제실세제과) 044-215-4312\\n기획재정부 (소득세제과) 044-215-4216\\n기획재정부 (음식세원과) 044-215-4233\\n기획재정부 (소득세과사원조사팀) 044-215-4217  \\n\\n제1장 총칙\\n제1조(목적)\\n이 법은 개인의 소득에 대하여 소득의 성격과 납세자의 부담능력 등에 따라 적정하게 과세함으로써 조세부담의 형평을 도모하고 재정수입의 원활한 조달에 이바지함을 목적으로 한다.\\n[본조신설 2009. 12. 31.]\\n[종전 제1조는 제2조로 이동 2009. 12. 31.]\\n제2조(정의)\\n① 이 법에서 사용하는 용어의 뜻은 다음과 같다. <개정 2010. 12. 27, 2014. 12. 23, 2018. 12. 31.>\\n1. \"거주자\"란 국내에 주소를 두거나 183일 이상 거소(居所)를 둔 개인을 말한다.\\n2. \"비거주자\"란 거주자가 아닌 개인을 말한다.\\n3. \"국내법인\"이란 법인세법 제2조제1호에 따른 내국법인을 말한다.\\n4. \"외국법인\"이란 법인세법 제2조제3호에 따른 외국법인을 말한다.\\n5. \"사업자\"란 사업소득이 있는 거주자를 말한다.\\n6. 제1항에 따른 주소·거소와 비거주자의 구분은 대통령령으로 정한다.\\n[본조신설 2009. 12. 31.]\\n제3조(납세의무)\\n다음 각 호의 어느 하나에 해당하는 개인은 이 법에 따라 각자의 소득에 대한 소득세를 납부할 의무를 진다.\\n1. 거주자\\n2. 비거주자\\n3. 법인\\n4. 외국법인은 국내사업소(출場所, 그 밖에 이에 준하는 것을 포함한다. 이하 같다)\\n5. 그 밖에 법에 의해 정하는 원천징수의무자\\n3. \"국세기본법\" 제33조제1항에 따른 법인이 아닌 단체 같은 제정법에 따른 법인은 보는 단체로 본다. \"법인은 보는 단체\"라 한다. 외의 법인이 아닌 단체는 국내에 주사무소 또는 사업의 실질적 관리장소를 두는 경우에는 1거래자로 본다. 그 밖에 각 단체마다 이 법을 적용한다. 다만, 다음 각 호의 어느 하나에 해당하는 경우에는 소득을 법인세법 제5조에 따른 법인 가운데 \"법인세법\"에 의하는 경우에도 법인의 소득세법에 따라 각 부문에 대한 법인의 납부할 의무를 진다. <개정 2010. 12. 27, 2013. 1. 1, 2018. 12. 31.>\\n6. 구성원 중 이의 원천의무를 정해져 있고 해당 구성원별로 이의 분배비율을 확인한 경우\\n7. 구성원 간 이의 분배비율이 정해져 있지 아니하나 사실상 구성원별 이의 분배비율로 확인되는 경우\\n제3항에도 불구하고 해당 단체의 전체 구성원 중 일부 구성원 분배비율이 확인되더라도 일부 구성원에 이의 분배되는 것으로 확인되는 경우에 다음 각 호의 사항에 따라 소득세 또는 법인세를 납부할 의무를 진다. <신설 2018. 12. 31.>\\n\\n법제처 1\\n소통세편')],\n",
       " 'answer': '연소득이 1억원인 사람의 소득세를 계산하기 위해서는 다음 표준세율을 사용해야 합니다:\\n\\n- 8,800만원 초과 ~ 1.5억원 이하: 1,536만원 + (8,800만원을 초과하는 금액의 35%)\\n\\n연소득이 1억원이므로 8,800만원을 초과한 금액은 1억원 - 8,800만원 = 1,200만원입니다.\\n\\n소득세는 다음과 같이 계산됩니다:\\n\\n1,536만원 + (1,200만원 × 0.35) = 1,536만원 + 420만원 = 1,956만원\\n\\n따라서 연소득이 1억원인 사람의 소득세는 1,956만원입니다.'}"
      ]
     },
     "execution_count": 25,
     "metadata": {},
     "output_type": "execute_result"
    }
   ],
   "source": [
    "initial_state = {'query': '연소득이 1억원인 사람의 소득세는 얼마인가요?'}\n",
    "graph.invoke(initial_state)"
   ]
  },
  {
   "cell_type": "code",
   "execution_count": 30,
   "metadata": {},
   "outputs": [
    {
     "data": {
      "text/plain": [
       "{'query': '강남역 일식 맛집을 소개해주세요',\n",
       " 'context': [{'title': '강남 일식 맛집 강남역 고급 일식집 아카사카 경탄했던 복어회코스',\n",
       "   'url': 'https://m.blog.naver.com/sensenlebo/222985823575',\n",
       "   'content': '감탄스러웠던 퀄리티의 강남 일식 맛집 위치는 삼성전자 서초사옥 바로 맞은편으로 지하철 2호선과 신분당선 강남역 6번 출구에서 도보 1~2분이면 도착할 수 있어 대중교통으로 방문하기에도 좋았어요.\\n\\n\\u200b\\n\\n\\u200b\\n\\n\\u200b\\n\\n\\u200b\\n\\n고급 일식집답게 아늑한 느낌의 룸 위주로 구성되어 있었는데 밖에서 봤을 때보다 안으로 들어가니 분위기가 훨씬 좋았어요.\\n\\n\\u200b\\n\\n\\u200b\\n\\n\\u200b\\n\\n\\u200b\\n\\n강남역에 위치한 고급 일식집이다보니 비즈니스 손님들이 주를 이룰 것 같았는데 조용하고 프라이빗하게 귀한 분들과 식사하기에 좋아 보였어요.\\n\\n\\u200b\\n\\n\\u200b\\n\\n\\u200b\\n\\n\\u200b\\n\\n각 룸 공간이 널찍해서 더욱 여유롭고 편안하게 식사할 수 있었던 강남역 일식 맛집 아카사카.\\n\\n\\u200b\\n\\n\\u200b\\n\\n\\u200b\\n\\n\\u200b\\n\\n이날 저희가 맛본 메뉴는 특별함이 있었던 활복코스요리로 지금부터 하나씩 상세하게 소개해드릴게요. :)\\n\\n\\u200b\\n\\n\\u200b\\n\\n복어회에 제철 사시미까지\\n\\n신선하고 좋은 음식이 한가득!\\n\\n\\u200b\\n\\n\\u200b [...] # 블로그\\n\\n## 카테고리 이동 미니미엄빠\\n\\n강남 일식 맛집 강남역 고급 일식집 아카사카 경탄했던 복어회코스\\n\\n프로필\\n\\n2023. 1. 16. 15:17\\n\\n강남 일식 맛집\\n\\n강남역 아카사카\\n\\n\\u200b\\n\\n귀한 복어회와 랍스터 & 제철 사시미, 다채롭고 신선한 해산물을 가득 맛볼 수 있었던 강남 일식 맛집 다녀왔어요. 그동안 다녀봤던 강남 일대 일식집 중에서 전체적인 재료 및 구성에 있어 가장 고급스러웠던 강남역 일식 맛집으로 꼽을만한 곳이었어요. :)\\n\\n\\u200b\\n\\n\\u200b\\n\\n강남역 아카사카\\n\\n주소: 서울 서초구 서초대로74길 23 서초타운트라팰리스 지하 1층\\n\\n전화번호: 02-585-1145\\n\\n영업시간: 11:30-22:00, B/T 14:30-17:30\\n\\n정기휴무: 매주 일요일\\n\\n주차: 밤 12시까지 가능\\n\\n서울특별시 서초구 서초대로74길 23 서초타운트라팰리스 지하1층\\n\\n\\u200b\\n\\n\\u200b [...] 싱싱함이 느껴졌던 석화와 멍게, 쫄깃했던 소라까지 바닷가 맛집 부럽지 않았어요.\\n\\n\\u200b\\n\\n\\u200b\\n\\n\\u200b\\n\\n\\u200b\\n\\n복지리용 복어는 테이블에 올라왔을 때도 아직 움직임이 보여서 신선함이 느껴졌는데요.\\n\\n\\u200b\\n\\n\\u200b\\n\\n\\u200b\\n\\n\\u200b\\n\\n테이블에서 복지리를 바로 끓여주셔서 맛있게 먹었어요. 국물이 매우 깔끔하고 개운했어요.\\n\\n\\u200b\\n\\n\\u200b\\n\\n\\u200b\\n\\n\\u200b\\n\\n복어와 야채를 매콤한 양념에 함께 볶아낸 복불고기는 술안주로 곁들이면 더욱 좋을 것 같았고요.\\n\\n\\u200b\\n\\n\\u200b\\n\\n\\u200b\\n\\n\\u200b\\n\\n깨끗한 기름에 튀겨냈다는 게 느껴졌던 튀김과 마무리 식사로 마끼까지 나와 정말 푸짐하게 즐겼는데요.\\n\\n\\u200b\\n\\n\\u200b\\n\\n\\u200b\\n\\n\\u200b\\n\\n디저트로는 팥양갱과 매실차를 내주셔서 달달하게 마무리했어요.\\n\\n\\u200b\\n\\n\\u200b\\n\\n\\u200b\\n\\n\\u200b\\n\\n다채로운 최상급 식재료를 사용해 신선하고 맛있는 코스요리를 가득 담아낸 강남 일식 맛집 아카사카 활복코스요리. 프라이빗한 룸으로 구성된 고급 강남역 일식집 찾으신다면 방문해 보시면 좋을 것 같아요. :)\\n\\n\\u200b\\n\\n\\u200b\\n\\n\\u200b',\n",
       "   'score': 0.9051298,\n",
       "   'raw_content': '![](https://ssl.pstatic.net/static/blog/sp_blog72.png)\\n![](https://ssl.pstatic.net/static/blog/sp_blog_se3_6.png)\\n\\n# [블로그](/Recommendation.naver)\\n\\n## [카테고리 이동](#) [미니미엄빠](/PostList.naver?blogId=sensenlebo)\\n\\n강남 일식 맛집 강남역 고급 일식집 아카사카 경탄했던 복어회코스\\n\\n![프로필](https://blogpfthumb-phinf.pstatic.net/MjAyMjAyMDFfMjUw/MDAxNjQzNjYxNDczNzk3.fTeTtdo7aPcS5583BkEX4ExhEddiOcbFBwBasAqOA7cg.KV-o08qTB5eFbdQzk72_h9HgchM-VQD1fJSdlQhchCUg.JPEG.sensenlebo/profileImage.jpg?type=s1)\\n\\n2023. 1. 16. 15:17\\n\\n![](https://mblogthumb-phinf.pstatic.net/MjAyMzAxMTZfNTMg/MDAxNjczODQ5MDg4NDg0.zWmktqjrDN-1Hu013n6rDM4CWVaIWFIB_RsTqbDaS2Ig.vvgUrnOCfYNnt6H3Jf7Wy6nv67S9MR0Ah98f8DMy76Mg.JPEG.sensenlebo/SE-0f82badc-9563-11ed-97f3-957cefccc8c6.jpg?type=w80_blur)\\n\\n강남 일식 맛집\\n\\n**강남역 아카사카**\\n\\n\\u200b\\n\\n**귀**한 복어회와 랍스터 & 제철 사시미, 다채롭고 신선한 해산물을 가득 맛볼 수 있었던 강남 일식 맛집 다녀왔어요. 그동안 다녀봤던 강남 일대 일식집 중에서 전체적인 재료 및 구성에 있어 가장 고급스러웠던 강남역 일식 맛집으로 꼽을만한 곳이었어요. :)\\n\\n\\u200b\\n\\n\\u200b\\n\\n강남역 아카사카\\n\\n주소: 서울 서초구 서초대로74길 23 서초타운트라팰리스 지하 1층\\n\\n전화번호: 02-585-1145\\n\\n영업시간: 11:30-22:00, B/T 14:30-17:30\\n\\n정기휴무: 매주 일요일\\n\\n주차: 밤 12시까지 가능\\n\\n서울특별시 서초구 서초대로74길 23 서초타운트라팰리스 지하1층\\n\\n![](https://mblogthumb-phinf.pstatic.net/MjAyMzAxMTZfNjQg/MDAxNjczODQzMjkzODkw.XdW5rVcN_b8MAEmQKRdmHv0wMbANuSkgeHk_pZ2c5Lcg.3g2eyYt1D3WxtGtu4VuIregEqHaeWqW2FStxPNJC4fUg.JPEG.sensenlebo/SE-04fab6ea-94e3-11ed-8e0b-57c638c46608.jpg?type=w80_blur)\\n![](https://mblogthumb-phinf.pstatic.net/MjAyMzAxMTZfNzQg/MDAxNjczODQzMzE1NTEx.NN5np1EO0PYN3FcdeI3Kr_ULZ5ihn96EBhZPoEHs9iUg.JpdkRZV4Ds6jq5RwO06RqJpKPP_YEC4ZH5q4qlZkgTQg.JPEG.sensenlebo/SE-04fab6ec-94e3-11ed-8e0b-6bafb579ed30.jpg?type=w80_blur)\\n\\n**\\u200b**\\n\\n**\\u200b**\\n\\n감탄스러웠던 퀄리티의 강남 일식 맛집 위치는 삼성전자 서초사옥 바로 맞은편으로 지하철 2호선과 신분당선 강남역 6번 출구에서 도보 1~2분이면 도착할 수 있어 대중교통으로 방문하기에도 좋았어요.\\n\\n\\u200b\\n\\n\\u200b\\n\\n![](https://mblogthumb-phinf.pstatic.net/MjAyMzAxMTZfMTk4/MDAxNjczODM5NzM2MjE2.eTW1oRhKBvN3J6uLFIlO-gnLAdKojEzhGPY8NcDHPLkg.ufN82qGtT_Wbdea5rYSToekwbs2t5qby4cBVtGrDl5Yg.JPEG.sensenlebo/SE-04faddff-94e3-11ed-8e0b-fb16452c48c2.jpg?type=w80_blur)\\n\\n**\\u200b**\\n\\n**\\u200b**\\n\\n고급 일식집답게 아늑한 느낌의 룸 위주로 구성되어 있었는데 밖에서 봤을 때보다 안으로 들어가니 분위기가 훨씬 좋았어요.\\n\\n\\u200b\\n\\n\\u200b\\n\\n![](https://mblogthumb-phinf.pstatic.net/MjAyMzAxMTZfMjQ1/MDAxNjczODM5NzUyMjc3.TrLqRvZQ2xPEcysiH2pWb4egM4IU6zXU0zUsfZKOjsgg.v5Xv9lHxZ2oEytqBzIIa6R8f0e0k5KfRYO5JBi8PRSog.JPEG.sensenlebo/SE-04fb0514-94e3-11ed-8e0b-f35fbf1fc034.jpg?type=w80_blur)\\n\\n**\\u200b**\\n\\n**\\u200b**\\n\\n강남역에 위치한 고급 일식집이다보니 비즈니스 손님들이 주를 이룰 것 같았는데 조용하고 프라이빗하게 귀한 분들과 식사하기에 좋아 보였어요.\\n\\n\\u200b\\n\\n\\u200b\\n\\n![](https://mblogthumb-phinf.pstatic.net/MjAyMzAxMTZfMTAw/MDAxNjczODM5NzQ4MDc4.WvWl78-in1eu-Afp7OfszolAVC-3zX-CZaYr9gDyHHwg.9IkUZEw3YlQayPeZVmyPlqFGgufpTu444vyJW411KLAg.JPEG.sensenlebo/SE-04fb0513-94e3-11ed-8e0b-d568dddaa890.jpg?type=w80_blur)\\n\\n**\\u200b**\\n\\n**\\u200b**\\n\\n각 룸 공간이 널찍해서 더욱 여유롭고 편안하게 식사할 수 있었던 강남역 일식 맛집 아카사카.\\n\\n\\u200b\\n\\n\\u200b\\n\\n![](https://mblogthumb-phinf.pstatic.net/MjAyMzAxMTZfMjM4/MDAxNjczODQzNjEyNTA2.fHMwzGq-TkpXscrb5RJOSDAj0h6fzMXSGQjXX_lLllwg.T75DqgUHd7UXiZwJdqutvJt4H464Qlq6CEDjrEUoDeUg.JPEG.sensenlebo/SE-04fade01-94e3-11ed-8e0b-97d709660ed4.jpg?type=w80_blur)\\n\\n**\\u200b**\\n\\n**\\u200b**\\n\\n이날 저희가 맛본 메뉴는 특별함이 있었던 활복코스요리로 지금부터 하나씩 상세하게 소개해드릴게요. :)\\n\\n\\u200b\\n\\n\\u200b\\n\\n복어회에 제철 사시미까지\\n\\n신선하고 좋은 음식이 한가득!\\n\\n![](https://mblogthumb-phinf.pstatic.net/MjAyMzAxMTZfNjUg/MDAxNjczODQ0NjgxMTI1.4pWGAXhcDIGdX_wB4xOe6gobkLk5_3lyBdnkEO9qgZkg.9CCtF3G40IBzuL4KQMecvYrQgfcfZ_f0XHxE3rp2o6og.JPEG.sensenlebo/SE-04fb0515-94e3-11ed-8e0b-87eab526b551.jpg?type=w80_blur)\\n![](https://mblogthumb-phinf.pstatic.net/MjAyMzAxMTZfMTI3/MDAxNjczODM5NzYwOTA3.4Y26T-A9EuJ1BqvB8meQ33bQhnr0GO6MTapN2k03xdsg.sJiYuKHPyqxkKoTi46qZKPwNnZAQGcptR3CLXTurn7Ag.JPEG.sensenlebo/SE-04fb0517-94e3-11ed-8e0b-1515cef93d51.jpg?type=w80_blur)\\n\\n**\\u200b**\\n\\n**\\u200b**\\n\\n예약한 시간에 맞춰 방문했더니 테이블에 기본 세팅이 되어있었고, 잠시 후 달달한 단호박죽이 가장 먼저 나왔어요.\\n\\n\\u200b\\n\\n\\u200b\\n\\n![](https://mblogthumb-phinf.pstatic.net/MjAyMzAxMTZfNzUg/MDAxNjczODQ0NjQ3ODM3.ZcZCfat8b1SzPvrW8Gugrba3O3cEGADrmwTbHMGDavYg.26COtGc6aEKVlGQlrlSN89exbQzdfvXXSp1soat2ckQg.JPEG.sensenlebo/SE-04fb0518-94e3-11ed-8e0b-271ab3e24f02.jpg?type=w80_blur)\\n![](https://mblogthumb-phinf.pstatic.net/MjAyMzAxMTZfMjY3/MDAxNjczODQ0NDEyMTI0.vkgelonBotCsFqjRiHMJd8bS0jwQSx0WQCgQm-LEMUkg._PBvntnwGswp6Wcc8WjWW50MlasBcVzg3kI7FplwJQsg.JPEG.sensenlebo/SE-04fb0519-94e3-11ed-8e0b-8be9c96b5afb.jpg?type=w80_blur)\\n\\n**\\u200b**\\n\\n**\\u200b**\\n\\n감칠맛 가득했던 가자미식해는 고소한 김에 싸낸 밥과 곁들이니 입맛이 확 살아나는 느낌으로 별미였고요.\\n\\n\\u200b\\n\\n\\u200b\\n\\n![](https://mblogthumb-phinf.pstatic.net/MjAyMzAxMTZfMjcx/MDAxNjczODQ0NjM1MjM0._R7DHigXqt7M39mn8LsTJbHlyhUKMT8YobTWN3Gw_SAg.SPD8EakcK-qvI1AbXsY-F4nDI1aG6zKTcGbg2MBQZkQg.JPEG.sensenlebo/SE-04fb2c2a-94e3-11ed-8e0b-879dec0475fe.jpg?type=w80_blur)\\n![](https://mblogthumb-phinf.pstatic.net/MjAyMzAxMTZfNDMg/MDAxNjczODQ0NzI5ODQ0.Bok8_bDSrg1A5Uln28GjLAb_1MWoiUFrGxq1h1yj_qcg.WFkHzI4DMFmXPCrB00qD9suV2KXZbPG42oeMfQsDGVEg.JPEG.sensenlebo/SE-04fb2c2d-94e3-11ed-8e0b-d10514402a15.jpg?type=w80_blur)\\n\\n**\\u200b**\\n\\n**\\u200b**\\n\\n딱 봐도 신선해 보였던 모둠 사시미는 직접 먹어보니 역시 기대를 저버리지 않는 식감과 맛을 선사해주었어요.\\n\\n\\u200b\\n\\n\\u200b\\n\\n![](https://mblogthumb-phinf.pstatic.net/MjAyMzAxMTZfMjQy/MDAxNjczODQ1MDM5ODQ1.ypnctxJhk5ZSpAwTHSRdKYqcmUnt9ydm7aSixsRXjiYg.3gFFB6GEx4z55nvhsbZDohFvgkJ3L_2FBmv31rsTyC8g.JPEG.sensenlebo/SE-04fb2c30-94e3-11ed-8e0b-073560a17e3d.jpg?type=w80_blur)\\n![](https://mblogthumb-phinf.pstatic.net/MjAyMzAxMTZfMTIx/MDAxNjczODQ2MzA1MjY4.iqFPng8r9upNqS_lQv5O8Wyef2IcOGaiu_obqig2DS4g.RiFeDAv1e1eALAoBID0jCKgUlh3oHAsRTN6jKl7cAEsg.JPEG.sensenlebo/SE-04fb5342-94e3-11ed-8e0b-7533b3f27fae.jpg?type=w80_blur)\\n\\n**\\u200b**\\n\\n**\\u200b**\\n\\n쫄깃하면서도 부드러운 식감이 매력적이었던 도미회와 부드럽고 단백했던 광어회, 제철 맞아 물이 제대로 오른 대방어까지! 구성도 좋았답니다.\\n\\n\\u200b\\n\\n\\u200b\\n\\n![](https://mblogthumb-phinf.pstatic.net/MjAyMzAxMTZfNTIg/MDAxNjczODQ2NDUzNzYx.D3KACoczl12FRT9-KDBqIsb7w299wJ9_PRxM1k9RJ6Eg.pb-MBb3fSqfFguhqmdNqJHKQAaLGTR9UPd9zoPBEgtEg.JPEG.sensenlebo/SE-04fb5341-94e3-11ed-8e0b-a59201a8c75b.jpg?type=w80_blur)\\n![](https://mblogthumb-phinf.pstatic.net/MjAyMzAxMTZfNjcg/MDAxNjczODQ2MjQzMDQ4.0RI4C51cGPwgogLVXuXNK3liN0gE6HagRSZKIz9fLCAg.wvKZNpPdY6WVWGsWC-o90b_xjaMTZYScBaB2p7s5rJQg.JPEG.sensenlebo/SE-04fb5343-94e3-11ed-8e0b-03f371dda30c.jpg?type=w80_blur)\\n\\n**\\u200b**\\n\\n**\\u200b**\\n\\n역시나 대표적인 고급 강남 일식 맛집 사시미 퀄리티는 급이 다르게 느껴졌어요.\\n\\n\\u200b\\n\\n\\u200b\\n\\n![](https://mblogthumb-phinf.pstatic.net/MjAyMzAxMTZfODEg/MDAxNjczODM5ODE3MDU4.hKtuYhN-ZxY0IG8aJph8FxN8INjPtAU1utYDo-pr3-wg.avhjpbxF24t5NaX0cMfI0UT7bchR9ltqrSmB9sbMZy4g.JPEG.sensenlebo/SE-04fb7a59-94e3-11ed-8e0b-271a6d6c2993.jpg?type=w80_blur)\\n![](https://mblogthumb-phinf.pstatic.net/MjAyMzAxMTZfNzYg/MDAxNjczODQ5NDc3NzQy.cpC3pp1C35ZHCkRMSpyQuUhLl1Gy7on8zQVbKLSAXMkg.-5CED87xMWfIQMsWHqLeNJ6JAF8imesDW4ekF02GqM4g.JPEG.sensenlebo/SE-04fb7a5b-94e3-11ed-8e0b-656556d8a317.jpg?type=w80_blur)\\n\\n**\\u200b**\\n\\n\\u200b\\n\\n강남역 일식 아카사카 활복코스요리의 메인이라고도 할 수 있는 활복사시미는 그릇이 비칠 정도로 아주 얇게 포 뜬 복어회 위에 식용 금가루를 얹어내 그 비주얼에 먼저 경탄했는데요.\\n\\n\\u200b\\n\\n\\u200b\\n\\n\\u200b\\n\\n\\u200b\\n\\n담당 서버분께서 먹기 좋게 미나리와 복어껍질, 복어회를 함께 한점씩 돌돌 말아주셨어요.\\n\\n\\u200b\\n\\n\\u200b\\n\\n![](https://mblogthumb-phinf.pstatic.net/MjAyMzAxMTZfMTMx/MDAxNjczODQ2MTE0ODg4.1qjMfe54qBmVdhmgQHmd0yQHT4Ms-EBfkYKLbjqkp8Eg.2DEJ_6FAsPAJQgdA8crtLIWu4AxJD1dA3L1qG5GyQ5Qg.JPEG.sensenlebo/SE-04fba170-94e3-11ed-8e0b-a34fa6590edc.jpg?type=w80_blur)\\n![](https://mblogthumb-phinf.pstatic.net/MjAyMzAxMTZfMjYw/MDAxNjczODQ2MDk4ODE0.0Rnp9SsgpQ6Cn6ocJk_yvFwMIBIUJu2N0WdDko1ub6og.abjeMAOcGWy_3cjPupIJ73Ef8PTaBCPuKi-KYOMYtawg.JPEG.sensenlebo/SE-04fba171-94e3-11ed-8e0b-c7b307524e98.jpg?type=w80_blur)\\n\\n\\u200b\\n\\n\\u200b\\n\\n복어회는 아무곳에서나 쉽사리 맛볼 수 없는 귀한 음식으로 탱글탱글한 식감과 씹을수록 달콤함마저 느껴지던 맛에 먹으면서 계속 감탄이 나왔어요.\\n\\n\\u200b\\n\\n\\u200b\\n\\n![](https://mblogthumb-phinf.pstatic.net/MjAyMzAxMTZfMzMg/MDAxNjczODQ2MDc3MDk4.cmRNn_kO7BgsTYzlWeZ56oL2seAmzgN12Ofifl3LbAgg.EY7XQ0WYU3mplJ2VIGvfpjgNAxsdlS5CmlBpm3YV3nMg.JPEG.sensenlebo/SE-04fba172-94e3-11ed-8e0b-4782c38100fc.jpg?type=w80_blur)\\n\\n\\u200b\\n\\n\\u200b\\n\\n부드럽고 쫄깃했던 오동통 산낙지 숙회도 나왔고요.\\n\\n\\u200b\\n\\n\\u200b\\n\\n![](https://mblogthumb-phinf.pstatic.net/MjAyMzAxMTZfMjMg/MDAxNjczODQ2MTc1MzQ3.DR1CEscdp5FBxGCNxY1vcv3HMkcS9EOfVp1S1Wbu2hUg.SXpFPCRf6RM6YfWZxemieMt1QloYwKEvjStcjnewe9cg.JPEG.sensenlebo/SE-04fba16f-94e3-11ed-8e0b-75cb28159a22.jpg?type=w80_blur)\\n![](https://mblogthumb-phinf.pstatic.net/MjAyMzAxMTZfMjg2/MDAxNjczODQ2MTUzMDMy.OifGBeexXk5-Mefxx9TMY0xQ-_RF8iRHvKFPELQFjNUg.ieT-czSblXHRfgYNjfDwwh2cBWn25dIKg1M2uflbbnkg.JPEG.sensenlebo/SE-04fb7a5e-94e3-11ed-8e0b-270dc9aa85ff.jpg?type=w80_blur)\\n\\n\\u200b\\n\\n\\u200b\\n\\n중앙에는 랍스터 사시미가 자리 잡고 있고, 그 주변으로 해삼, 멍게, 소라, 전복, 석화, 우니가 둘러진 초특급 비주얼 & 퀄리티를 뽐냈던 모둠 해산물까지!\\n\\n\\u200b\\n\\n\\u200b\\n\\n![](https://mblogthumb-phinf.pstatic.net/MjAyMzAxMTZfMTkz/MDAxNjczODM5ODU0NDAy.VV3UqlcLfmSsoU9iZ9-XdCopYBLFEPEVsF7uP9rVXscg.ZKaUmqPHEtCuajOHqgTy3C3AnI-i6z7O_WGSZPLcBPEg.JPEG.sensenlebo/SE-04fbc886-94e3-11ed-8e0b-bdb2db13abb8.jpg?type=w80_blur)\\n![](https://mblogthumb-phinf.pstatic.net/MjAyMzAxMTZfODYg/MDAxNjczODQ1OTAwMDg1.7u-yr0ZhkHPsJK5xfLVOPPq0mmQjTrUtm1KTsPdThLYg.rYblvsbeP_EN2HdQDmeZpmiTptct1eMo3onHogn19tMg.JPEG.sensenlebo/SE-04fbc888-94e3-11ed-8e0b-277992cef9f4.jpg?type=w80_blur)\\n\\n\\u200b\\n\\n\\u200b\\n\\n바다에서 나는 맛있고 좋은 재료는 모두 모아놨다고 해도 과언이 아닐 정도로 훌륭했던 구성에 신선함까지 갖추었던 강남 일식 맛집 모둠 해산물이었어요.\\n\\n\\u200b\\n\\n\\u200b\\n\\n![](https://mblogthumb-phinf.pstatic.net/MjAyMzAxMTZfMTUw/MDAxNjczODQ1ODYxMjk0.0e0gdtzgRdnSCj32d_Sb8ROR7grOAgvW0k0gdkOhqNkg.T2btg8ZSHa_0EeBtbW_Q7XkqhwuuI4KeZBCtVUpnIFEg.JPEG.sensenlebo/SE-1b51dc52-94e3-11ed-8e0b-1d12fb58c678.jpg?type=w80_blur)\\n![](https://mblogthumb-phinf.pstatic.net/MjAyMzAxMTZfNTgg/MDAxNjczODQ1ODQzODI4.Ym2dIfPGrTEWdnWBjUrVJr5TXCnTtGkRls-GXGZuZj4g.t7yy3ezTIIHeSX5anmByka6YkxLplWQregpBIVVfHTQg.JPEG.sensenlebo/SE-1b51dc54-94e3-11ed-8e0b-b79a8a85602a.jpg?type=w80_blur)\\n\\n\\u200b\\n\\n\\u200b\\n\\n바다 내음 가득 느낄 수 있었던 해삼과 고소했던 우니, 큼지막하게 썰어내 오도독 식감이 좋았던 전복.\\n\\n\\u200b\\n\\n\\u200b\\n\\n![](https://mblogthumb-phinf.pstatic.net/MjAyMzAxMTZfNzkg/MDAxNjczODQ1ODMyOTIw.oyNmIN1-i5NKVbpkv-H9E5leyfMbQ4GSJsPWFi7Rc_Qg.Zu0_WtXH9rV-blNQ3Ux3OsSZu780Duok2lgS6FEI-gkg.JPEG.sensenlebo/SE-1b51dc55-94e3-11ed-8e0b-63e0e0ebc0fc.jpg?type=w80_blur)\\n![](https://mblogthumb-phinf.pstatic.net/MjAyMzAxMTZfNDcg/MDAxNjczODQ1ODEwMjM4.XMGvwGvugW_3qCwnfLBBJmT9Q4zO4wF-T6DEpwbOD58g.R4FXb8eH23ydYfVMqLyvAUnpJCsA9SAaWszGYCsNnWog.JPEG.sensenlebo/SE-1b51dc56-94e3-11ed-8e0b-bb4a669b3227.jpg?type=w80_blur)\\n\\n\\u200b\\n\\n\\u200b\\n\\n싱싱함이 느껴졌던 석화와 멍게, 쫄깃했던 소라까지 바닷가 맛집 부럽지 않았어요.\\n\\n\\u200b\\n\\n\\u200b\\n\\n![](https://mblogthumb-phinf.pstatic.net/MjAyMzAxMTZfMjM0/MDAxNjczODQ1Nzk1MzY5.ESBh8bhgGHw4NzpwizEahga0RW74uzSfZLtYOxB11bUg.J-aqBj_eNTs3YfhWWUdl1U5c8fv4Ld5pVKHBUoWV7FUg.JPEG.sensenlebo/SE-1b51dc57-94e3-11ed-8e0b-25b7ca2d3e07.jpg?type=w80_blur)\\n![](https://mblogthumb-phinf.pstatic.net/MjAyMzAxMTZfMjI4/MDAxNjczODQ1NzgyNzE1.S4cnU05uRPszjGuzkmEY2sZSdytm0IeTQZ3XwtSMDxgg.CRHwj58JSE7ADWQF7Qt4WP2IL7yWuznRURwzOtr9N1og.JPEG.sensenlebo/SE-1b520368-94e3-11ed-8e0b-ab96172e1b22.jpg?type=w80_blur)\\n\\n\\u200b\\n\\n\\u200b\\n\\n복지리용 복어는 테이블에 올라왔을 때도 아직 움직임이 보여서 신선함이 느껴졌는데요.\\n\\n\\u200b\\n\\n\\u200b\\n\\n\\u200b\\n\\n\\u200b\\n\\n테이블에서 복지리를 바로 끓여주셔서 맛있게 먹었어요. 국물이 매우 깔끔하고 개운했어요.\\n\\n\\u200b\\n\\n\\u200b\\n\\n![](https://mblogthumb-phinf.pstatic.net/MjAyMzAxMTZfMjY2/MDAxNjczODQ1NjE5NjM2.naT4U0h2STnLK9BEA_YALS_pg3hQBd3hJZNE8zPejoYg.8OOXltIiFhFLLdc_lW8mLZV4CYwBd7wqKN6VGtVsj4cg.JPEG.sensenlebo/SE-1b52036b-94e3-11ed-8e0b-05d3e7f5cca4.jpg?type=w80_blur)\\n![](https://mblogthumb-phinf.pstatic.net/MjAyMzAxMTZfNTQg/MDAxNjczODQ1NjUxODcz.aepuj0zcONexMZjmNJW_U3AgOHB3CPzsk7BrpPquUOIg.JwKp-og5sySzwE8DcpmaIOVkal2okeUO8Cr91fSLNAwg.JPEG.sensenlebo/SE-1b52036e-94e3-11ed-8e0b-77a2466c60a1.jpg?type=w80_blur)\\n\\n\\u200b\\n\\n\\u200b\\n\\n복어와 야채를 매콤한 양념에 함께 볶아낸 복불고기는 술안주로 곁들이면 더욱 좋을 것 같았고요.\\n\\n\\u200b\\n\\n\\u200b\\n\\n![](https://mblogthumb-phinf.pstatic.net/MjAyMzAxMTZfMTA1/MDAxNjczODQ1NTY5MzA4.z_5Pw2gwbGRgsWfm8szA15kI-ru8jMscVnjQZ3Oa33og.Rjc4oOEPjp445hAf6FFm8coAe57byoGfKmYU59p4zCEg.JPEG.sensenlebo/SE-1b522a80-94e3-11ed-8e0b-5b0070300954.jpg?type=w80_blur)\\n![](https://mblogthumb-phinf.pstatic.net/MjAyMzAxMTZfMTU4/MDAxNjczODQ1NTQ3OTc0.BaYcdstLlKNM8_KNOxDH513KVNCahxiM8BtfmIeCmIog.RsAgfgUS79Dw6ioWvaMyIBFQ6dEnlRiFbXM4prFxFvsg.JPEG.sensenlebo/SE-1b522a81-94e3-11ed-8e0b-ebdac7a009cd.jpg?type=w80_blur)\\n\\n\\u200b\\n\\n\\u200b\\n\\n깨끗한 기름에 튀겨냈다는 게 느껴졌던 튀김과 마무리 식사로 마끼까지 나와 정말 푸짐하게 즐겼는데요.\\n\\n\\u200b\\n\\n\\u200b\\n\\n![](https://mblogthumb-phinf.pstatic.net/MjAyMzAxMTZfMjcz/MDAxNjczODQ1NDg1NDk5.-I7TPOAleEWQUV3VCYQMWZ4GMd3S6b40dD4uE9hGLx0g.3kwWMwo5cYZcLjAG-dJneJEnrFoKMAF-9KtC8WU7LlUg.JPEG.sensenlebo/SE-1b522a82-94e3-11ed-8e0b-ad935a83a50a.jpg?type=w80_blur)\\n![](https://mblogthumb-phinf.pstatic.net/MjAyMzAxMTZfMTI4/MDAxNjczODQ1NTExNzI5.pFqkKs-2_8Z5D6uMUoxAJuvgtdVoAX5wLLrBPAPPrQIg.4JlRFSAcEnVmyijoGoG49J77aNbL_Vx_45YZzYohQhkg.JPEG.sensenlebo/SE-1b525195-94e3-11ed-8e0b-d5a65ea47eaa.jpg?type=w80_blur)\\n\\n\\u200b\\n\\n\\u200b\\n\\n디저트로는 팥양갱과 매실차를 내주셔서 달달하게 마무리했어요.\\n\\n\\u200b\\n\\n\\u200b\\n\\n![](https://mblogthumb-phinf.pstatic.net/MjAyMzAxMTZfMTY5/MDAxNjczODM5OTUwODI0.Q7crtj8RDyGkibG1T3mrVifxPyeWsGGJPsstHmB0ZoEg.mrkgsfVXuqleJMlC_9qsxnlu-cCGWTy0sWfE6j9q9ssg.JPEG.sensenlebo/SE-1b525197-94e3-11ed-8e0b-1b3a9568d4f3.jpg?type=w80_blur)\\n![](https://mblogthumb-phinf.pstatic.net/MjAyMzAxMTZfMjY2/MDAxNjczODQ1NDE4MjA0.wSjYXWSMAQz0lC3s19_HfeoJLnqXq-eEYMSx00vLBAkg.dA2K_nEBlhOhzwGYEFrXSKUOygmTbliQcUwrJtc02Xcg.JPEG.sensenlebo/SE-1b525196-94e3-11ed-8e0b-c3482e7d88e2.jpg?type=w80_blur)\\n\\n\\u200b\\n\\n\\u200b\\n\\n다채로운 최상급 식재료를 사용해 신선하고 맛있는 코스요리를 가득 담아낸 강남 일식 맛집 아카사카 활복코스요리. 프라이빗한 룸으로 구성된 고급 강남역 일식집 찾으신다면 방문해 보시면 좋을 것 같아요. :)\\n\\n\\u200b\\n\\n**\\u200b**\\n\\n\\u200b\\n\\n![](https://dthumb-phinf.pstatic.net/?src=%22http%3A%2F%2Fwww.akasaka.co.kr%2Fimg%2Fcommon%2Fbi.png%22&type=ff120)\\n\\n서초구 서초동 위치, 일식요리, 복어회, 회덮밥, 전복죽, 매운탕, 정식, 코스 메뉴, 예약 안내\\n\\nbit.ly\\n\\n\\u200b\\n\\n\\u200b\\n\\n\\u200b\\n\\n![](https://storep-phinf.pstatic.net/ogq_5a558da2e2a83/original_2.png?type=p100_100)\\n\\n\\u200b\\n\\n\\u200b\\n\\n\\u200b\\n\\n\\u200b\\n\\n## 카테고리'},\n",
       "  {'title': '서울 강남역 일식 맛집 BEST 5 - 식신',\n",
       "   'url': 'https://www.siksinhot.com/theme/magazine/5194',\n",
       "   'content': '맛집 추천 FAQ. Q: 강남역 일식 맛집들이 많은데, 어떤 매장을 추천하나요? A: Izakaya Naruto (야키토리 나루토), Hanauudon (하나우동), Sushi Myeou',\n",
       "   'score': 0.8810534},\n",
       "  {'title': '강남역 일식 맛집 고급스러운 손님 접대 일식당 추천 /구레 스시',\n",
       "   'url': 'https://blog.naver.com/rainbowplus2020/223360031596',\n",
       "   'content': '강남 고급스러운 일식 스시 초밥 맛집을 소개해 드리려고 해요! 바로 강남역 미진 프라자 지하에 있는 구레 스시에요! 강남역 메인 1-2번 출구 사이에',\n",
       "   'score': 0.85995835}],\n",
       " 'answer': '강남역 일식 맛집으로는 \"아카사카\"라는 고급 일식집을 추천합니다. 이곳은 삼성전자 서초사옥 바로 맞은편에 위치해 있으며, 강남역 6번 출구에서 도보로 1~2분 거리에 있어 접근성이 좋습니다. 주로 룸으로 구성되어 있어 조용하고 프라이빗하게 식사하기에 적합하며, 복어회와 랍스터 & 제철 사시미, 다양한 해산물을 맛볼 수 있는 특별한 코스요리를 제공합니다. 영업시간은 오전 11시 30분부터 오후 10시까지이며, 매주 일요일은 정기휴무입니다. (주소: 서울 서초구 서초대로74길 23 서초타운트라팰리스 지하 1층, 전화번호: 02-585-1145)'}"
      ]
     },
     "execution_count": 30,
     "metadata": {},
     "output_type": "execute_result"
    }
   ],
   "source": [
    "initial_state = {'query': '강남역 일식 맛집을 소개해주세요'}\n",
    "graph.invoke(initial_state)"
   ]
  },
  {
   "cell_type": "code",
   "execution_count": null,
   "metadata": {},
   "outputs": [],
   "source": []
  },
  {
   "cell_type": "code",
   "execution_count": null,
   "metadata": {},
   "outputs": [],
   "source": []
  }
 ],
 "metadata": {
  "kernelspec": {
   "display_name": "Python 3",
   "language": "python",
   "name": "python3"
  },
  "language_info": {
   "codemirror_mode": {
    "name": "ipython",
    "version": 3
   },
   "file_extension": ".py",
   "mimetype": "text/x-python",
   "name": "python",
   "nbconvert_exporter": "python",
   "pygments_lexer": "ipython3",
   "version": "3.13.2"
  }
 },
 "nbformat": 4,
 "nbformat_minor": 2
}
